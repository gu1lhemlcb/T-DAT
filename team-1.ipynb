{
 "cells": [
  {
   "cell_type": "markdown",
   "metadata": {},
   "source": [
    "## Recommandation par profile d'acheteur (Gros acheteur ponctuel VS petit acheteur de tous les jours) \n",
    "\n",
    "### 1ere Etape: calculer nbr item par panier et total panier pour chaque client\n",
    "### 2me Etape: calculer nbr item par panier  par client et total panier par client - pour chaque mail\n",
    "### 3eme Etape: calcul cluster client\n",
    "### 4eme Etape: trouver le cluster depuis un id client\n",
    "### 5eme Etape: trouver quel mail fait parti de se cluster\n",
    "### 6eme Recommandation dans la mail"
   ]
  },
  {
   "cell_type": "markdown",
   "metadata": {},
   "source": []
  },
  {
   "cell_type": "markdown",
   "metadata": {},
   "source": []
  }
 ],
 "metadata": {
  "language_info": {
   "name": "python"
  },
  "orig_nbformat": 4
 },
 "nbformat": 4,
 "nbformat_minor": 2
}
