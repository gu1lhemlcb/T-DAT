{
 "cells": [
  {
   "cell_type": "code",
   "execution_count": 1,
   "metadata": {
    "collapsed": true
   },
   "outputs": [],
   "source": [
    "\n",
    "\n",
    "import pandas as pd\n",
    "from sklearn.preprocessing import OneHotEncoder\n",
    "import numpy as np\n",
    "from sklearn.preprocessing import StandardScaler\n",
    "from sklearn.cluster import KMeans\n",
    "import matplotlib.pyplot as plt"
   ]
  },
  {
   "cell_type": "code",
   "execution_count": 2,
   "outputs": [
    {
     "data": {
      "text/plain": "         TICKET_ID  MOIS_VENTE  PRIX_NET          FAMILLE  \\\n0         35592159          10      1.67          HYGIENE   \n1         35592159          10      1.66          HYGIENE   \n2         35592159          10      7.45  SOINS DU VISAGE   \n3         35592159          10      5.95  SOINS DU VISAGE   \n4         35592159          10      1.67          HYGIENE   \n...            ...         ...       ...              ...   \n7245517   35448190           9      2.50   SOINS DU CORPS   \n7245518   35448190           9      3.00          HYGIENE   \n7245519   36105678          12      7.90       MAQUILLAGE   \n7245520   36105678          12     11.45       MAQUILLAGE   \n7245521   36105678          12      4.45       MAQUILLAGE   \n\n                             UNIVERS                       MAILLE  \\\n0             HYG_DOUCHE JARDINMONDE                      HYG_JDM   \n1             HYG_DOUCHE JARDINMONDE                      HYG_JDM   \n2        VIS_CJOUR Jeunes Specifique           VIS_JEUNE_ET_LEVRE   \n3                     VIS_DEMAQ AAAR         VIS_AAAR_DEMAQLOTION   \n4             HYG_DOUCHE JARDINMONDE                      HYG_JDM   \n...                              ...                          ...   \n7245517         CORPS_SOIN DES MAINS  CORPS_HYDRA_NOURRI_ET_SOINS   \n7245518       HYG_DOUCHE JARDINMONDE                      HYG_JDM   \n7245519             MAQ_YEUX Crayons           MAQ_YEUX_CLASSIQUE   \n7245520      MAQ_YEUX Mascara Elixir            MAQ_YEUX_MASCA_HG   \n7245521            MAQ_ONG Vernis CN                   MAQ_ONGLES   \n\n                                          LIBELLE     CLI_ID  \n0                   GD JDM4 PAMPLEMOUSSE FL 200ML    1490281  \n1                   GD JDM4 PAMPLEMOUSSE FL 200ML    1490281  \n2                 CR JR PARF BIO.SPE AC.SENT.50ML    1490281  \n3                   EAU MICELLAIRE 3 THES FL200ML    1490281  \n4                          GD JDM4 TIARE FL 200ML    1490281  \n...                                           ...        ...  \n7245517              SVC CR MAINS ET ONGLES T75ml  997385337  \n7245518        GD JDM4 LAVANDIN DE PROVENCE 200ML  997385337  \n7245519              CRAYON REGARD PRUNE CN3 1.3G  997385337  \n7245520          MASCARA SOIN NOIR01 2014 CN3 9ML  997385337  \n7245521  VAO BRIL CERISE NOIRE113 ETE14 CN3 5,5ML  997385337  \n\n[7245522 rows x 8 columns]",
      "text/html": "<div>\n<style scoped>\n    .dataframe tbody tr th:only-of-type {\n        vertical-align: middle;\n    }\n\n    .dataframe tbody tr th {\n        vertical-align: top;\n    }\n\n    .dataframe thead th {\n        text-align: right;\n    }\n</style>\n<table border=\"1\" class=\"dataframe\">\n  <thead>\n    <tr style=\"text-align: right;\">\n      <th></th>\n      <th>TICKET_ID</th>\n      <th>MOIS_VENTE</th>\n      <th>PRIX_NET</th>\n      <th>FAMILLE</th>\n      <th>UNIVERS</th>\n      <th>MAILLE</th>\n      <th>LIBELLE</th>\n      <th>CLI_ID</th>\n    </tr>\n  </thead>\n  <tbody>\n    <tr>\n      <th>0</th>\n      <td>35592159</td>\n      <td>10</td>\n      <td>1.67</td>\n      <td>HYGIENE</td>\n      <td>HYG_DOUCHE JARDINMONDE</td>\n      <td>HYG_JDM</td>\n      <td>GD JDM4 PAMPLEMOUSSE FL 200ML</td>\n      <td>1490281</td>\n    </tr>\n    <tr>\n      <th>1</th>\n      <td>35592159</td>\n      <td>10</td>\n      <td>1.66</td>\n      <td>HYGIENE</td>\n      <td>HYG_DOUCHE JARDINMONDE</td>\n      <td>HYG_JDM</td>\n      <td>GD JDM4 PAMPLEMOUSSE FL 200ML</td>\n      <td>1490281</td>\n    </tr>\n    <tr>\n      <th>2</th>\n      <td>35592159</td>\n      <td>10</td>\n      <td>7.45</td>\n      <td>SOINS DU VISAGE</td>\n      <td>VIS_CJOUR Jeunes Specifique</td>\n      <td>VIS_JEUNE_ET_LEVRE</td>\n      <td>CR JR PARF BIO.SPE AC.SENT.50ML</td>\n      <td>1490281</td>\n    </tr>\n    <tr>\n      <th>3</th>\n      <td>35592159</td>\n      <td>10</td>\n      <td>5.95</td>\n      <td>SOINS DU VISAGE</td>\n      <td>VIS_DEMAQ AAAR</td>\n      <td>VIS_AAAR_DEMAQLOTION</td>\n      <td>EAU MICELLAIRE 3 THES FL200ML</td>\n      <td>1490281</td>\n    </tr>\n    <tr>\n      <th>4</th>\n      <td>35592159</td>\n      <td>10</td>\n      <td>1.67</td>\n      <td>HYGIENE</td>\n      <td>HYG_DOUCHE JARDINMONDE</td>\n      <td>HYG_JDM</td>\n      <td>GD JDM4 TIARE FL 200ML</td>\n      <td>1490281</td>\n    </tr>\n    <tr>\n      <th>...</th>\n      <td>...</td>\n      <td>...</td>\n      <td>...</td>\n      <td>...</td>\n      <td>...</td>\n      <td>...</td>\n      <td>...</td>\n      <td>...</td>\n    </tr>\n    <tr>\n      <th>7245517</th>\n      <td>35448190</td>\n      <td>9</td>\n      <td>2.50</td>\n      <td>SOINS DU CORPS</td>\n      <td>CORPS_SOIN DES MAINS</td>\n      <td>CORPS_HYDRA_NOURRI_ET_SOINS</td>\n      <td>SVC CR MAINS ET ONGLES T75ml</td>\n      <td>997385337</td>\n    </tr>\n    <tr>\n      <th>7245518</th>\n      <td>35448190</td>\n      <td>9</td>\n      <td>3.00</td>\n      <td>HYGIENE</td>\n      <td>HYG_DOUCHE JARDINMONDE</td>\n      <td>HYG_JDM</td>\n      <td>GD JDM4 LAVANDIN DE PROVENCE 200ML</td>\n      <td>997385337</td>\n    </tr>\n    <tr>\n      <th>7245519</th>\n      <td>36105678</td>\n      <td>12</td>\n      <td>7.90</td>\n      <td>MAQUILLAGE</td>\n      <td>MAQ_YEUX Crayons</td>\n      <td>MAQ_YEUX_CLASSIQUE</td>\n      <td>CRAYON REGARD PRUNE CN3 1.3G</td>\n      <td>997385337</td>\n    </tr>\n    <tr>\n      <th>7245520</th>\n      <td>36105678</td>\n      <td>12</td>\n      <td>11.45</td>\n      <td>MAQUILLAGE</td>\n      <td>MAQ_YEUX Mascara Elixir</td>\n      <td>MAQ_YEUX_MASCA_HG</td>\n      <td>MASCARA SOIN NOIR01 2014 CN3 9ML</td>\n      <td>997385337</td>\n    </tr>\n    <tr>\n      <th>7245521</th>\n      <td>36105678</td>\n      <td>12</td>\n      <td>4.45</td>\n      <td>MAQUILLAGE</td>\n      <td>MAQ_ONG Vernis CN</td>\n      <td>MAQ_ONGLES</td>\n      <td>VAO BRIL CERISE NOIRE113 ETE14 CN3 5,5ML</td>\n      <td>997385337</td>\n    </tr>\n  </tbody>\n</table>\n<p>7245522 rows × 8 columns</p>\n</div>"
     },
     "execution_count": 2,
     "metadata": {},
     "output_type": "execute_result"
    }
   ],
   "source": [
    "kado_df = pd.read_csv(\"~/Workspace/EPITECH/MSC2/T-DAT-901_msc2022/KaDo.csv\")\n",
    "#Drop columns with Nan Values\n",
    "kado_df.dropna(how='any')"
   ],
   "metadata": {
    "collapsed": false,
    "pycharm": {
     "name": "#%%\n"
    }
   }
  },
  {
   "cell_type": "code",
   "execution_count": 3,
   "outputs": [
    {
     "name": "stdout",
     "output_type": "stream",
     "text": [
      "No. of training examples: 5796418\n",
      "No. of testing examples: 1449104\n"
     ]
    }
   ],
   "source": [
    "training_data = kado_df.sample(frac=0.8, random_state=25)\n",
    "testing_data = kado_df.drop(training_data.index)\n",
    "\n",
    "print(f\"No. of training examples: {training_data.shape[0]}\")\n",
    "print(f\"No. of testing examples: {testing_data.shape[0]}\")"
   ],
   "metadata": {
    "collapsed": false,
    "pycharm": {
     "name": "#%%\n"
    }
   }
  },
  {
   "cell_type": "code",
   "execution_count": 4,
   "outputs": [
    {
     "name": "stdout",
     "output_type": "stream",
     "text": [
      "CLI_ID      int64\n",
      "LIBELLE    object\n",
      "dtype: object\n"
     ]
    }
   ],
   "source": [
    "from sklearn.preprocessing import LabelEncoder\n",
    "\n",
    "#Feature Selection, Select only the columns i'm interested with\n",
    "training_data = training_data[['CLI_ID', 'LIBELLE']]\n",
    "training_data.dropna(how='any')\n",
    "print(training_data.dtypes)\n",
    "#training_data['LIBELLE'] = training_data['LIBELLE'].astype(int)\n",
    "#ohe = OneHotEncoder(sparse=False, drop=None, dtype=float)\n",
    "df_categorical = kado_df[['LIBELLE']]\n",
    "#print(df_categorical)\n",
    "marry_encoder = LabelEncoder()\n",
    "marry_encoder.fit(df_categorical['LIBELLE'])\n",
    "marry_values = marry_encoder.transform(df_categorical['LIBELLE'])"
   ],
   "metadata": {
    "collapsed": false,
    "pycharm": {
     "name": "#%%\n"
    }
   }
  },
  {
   "cell_type": "code",
   "execution_count": 5,
   "outputs": [],
   "source": [
    "#Feature Engineering\n",
    "#Calcul de la corrélation entre les differentes colonnes, dans notre cas pas\n",
    "#utile car le client id ne change rien.\n",
    "#Mais par exemple l'univers et le prix seraient importants à comparer\n",
    "#print(type(training_data['PRIX_NET']),type(training_data['CLI_ID']))\n",
    "#correlation = training_data['PRIX_NET'].corr('CLI_ID')"
   ],
   "metadata": {
    "collapsed": false,
    "pycharm": {
     "name": "#%%\n"
    }
   }
  },
  {
   "cell_type": "code",
   "execution_count": 6,
   "outputs": [
    {
     "ename": "ValueError",
     "evalue": "could not convert string to float: 'DUO PDRE HAL/MAT02 AX/SOLA CN3 20G'",
     "output_type": "error",
     "traceback": [
      "\u001B[0;31m---------------------------------------------------------------------------\u001B[0m",
      "\u001B[0;31mValueError\u001B[0m                                Traceback (most recent call last)",
      "\u001B[0;32m/tmp/ipykernel_7828/3897416590.py\u001B[0m in \u001B[0;36m<module>\u001B[0;34m\u001B[0m\n\u001B[1;32m      1\u001B[0m \u001B[0;31m#Feature Scaling\u001B[0m\u001B[0;34m\u001B[0m\u001B[0;34m\u001B[0m\u001B[0;34m\u001B[0m\u001B[0m\n\u001B[1;32m      2\u001B[0m \u001B[0mscaler\u001B[0m \u001B[0;34m=\u001B[0m \u001B[0mStandardScaler\u001B[0m\u001B[0;34m(\u001B[0m\u001B[0;34m)\u001B[0m\u001B[0;34m\u001B[0m\u001B[0;34m\u001B[0m\u001B[0m\n\u001B[0;32m----> 3\u001B[0;31m \u001B[0mscaler\u001B[0m\u001B[0;34m.\u001B[0m\u001B[0mfit\u001B[0m\u001B[0;34m(\u001B[0m\u001B[0mtraining_data\u001B[0m\u001B[0;34m)\u001B[0m\u001B[0;34m\u001B[0m\u001B[0;34m\u001B[0m\u001B[0m\n\u001B[0m\u001B[1;32m      4\u001B[0m \u001B[0mres\u001B[0m \u001B[0;34m=\u001B[0m \u001B[0mscaler\u001B[0m\u001B[0;34m.\u001B[0m\u001B[0mtransform\u001B[0m\u001B[0;34m(\u001B[0m\u001B[0mtraining_data\u001B[0m\u001B[0;34m)\u001B[0m\u001B[0;34m\u001B[0m\u001B[0;34m\u001B[0m\u001B[0m\n\u001B[1;32m      5\u001B[0m \u001B[0;34m\u001B[0m\u001B[0m\n",
      "\u001B[0;32m/usr/local/lib/python3.8/dist-packages/sklearn/preprocessing/_data.py\u001B[0m in \u001B[0;36mfit\u001B[0;34m(self, X, y, sample_weight)\u001B[0m\n\u001B[1;32m    804\u001B[0m         \u001B[0;31m# Reset internal state before fitting\u001B[0m\u001B[0;34m\u001B[0m\u001B[0;34m\u001B[0m\u001B[0;34m\u001B[0m\u001B[0m\n\u001B[1;32m    805\u001B[0m         \u001B[0mself\u001B[0m\u001B[0;34m.\u001B[0m\u001B[0m_reset\u001B[0m\u001B[0;34m(\u001B[0m\u001B[0;34m)\u001B[0m\u001B[0;34m\u001B[0m\u001B[0;34m\u001B[0m\u001B[0m\n\u001B[0;32m--> 806\u001B[0;31m         \u001B[0;32mreturn\u001B[0m \u001B[0mself\u001B[0m\u001B[0;34m.\u001B[0m\u001B[0mpartial_fit\u001B[0m\u001B[0;34m(\u001B[0m\u001B[0mX\u001B[0m\u001B[0;34m,\u001B[0m \u001B[0my\u001B[0m\u001B[0;34m,\u001B[0m \u001B[0msample_weight\u001B[0m\u001B[0;34m)\u001B[0m\u001B[0;34m\u001B[0m\u001B[0;34m\u001B[0m\u001B[0m\n\u001B[0m\u001B[1;32m    807\u001B[0m \u001B[0;34m\u001B[0m\u001B[0m\n\u001B[1;32m    808\u001B[0m     \u001B[0;32mdef\u001B[0m \u001B[0mpartial_fit\u001B[0m\u001B[0;34m(\u001B[0m\u001B[0mself\u001B[0m\u001B[0;34m,\u001B[0m \u001B[0mX\u001B[0m\u001B[0;34m,\u001B[0m \u001B[0my\u001B[0m\u001B[0;34m=\u001B[0m\u001B[0;32mNone\u001B[0m\u001B[0;34m,\u001B[0m \u001B[0msample_weight\u001B[0m\u001B[0;34m=\u001B[0m\u001B[0;32mNone\u001B[0m\u001B[0;34m)\u001B[0m\u001B[0;34m:\u001B[0m\u001B[0;34m\u001B[0m\u001B[0;34m\u001B[0m\u001B[0m\n",
      "\u001B[0;32m/usr/local/lib/python3.8/dist-packages/sklearn/preprocessing/_data.py\u001B[0m in \u001B[0;36mpartial_fit\u001B[0;34m(self, X, y, sample_weight)\u001B[0m\n\u001B[1;32m    839\u001B[0m         \"\"\"\n\u001B[1;32m    840\u001B[0m         \u001B[0mfirst_call\u001B[0m \u001B[0;34m=\u001B[0m \u001B[0;32mnot\u001B[0m \u001B[0mhasattr\u001B[0m\u001B[0;34m(\u001B[0m\u001B[0mself\u001B[0m\u001B[0;34m,\u001B[0m \u001B[0;34m\"n_samples_seen_\"\u001B[0m\u001B[0;34m)\u001B[0m\u001B[0;34m\u001B[0m\u001B[0;34m\u001B[0m\u001B[0m\n\u001B[0;32m--> 841\u001B[0;31m         X = self._validate_data(\n\u001B[0m\u001B[1;32m    842\u001B[0m             \u001B[0mX\u001B[0m\u001B[0;34m,\u001B[0m\u001B[0;34m\u001B[0m\u001B[0;34m\u001B[0m\u001B[0m\n\u001B[1;32m    843\u001B[0m             \u001B[0maccept_sparse\u001B[0m\u001B[0;34m=\u001B[0m\u001B[0;34m(\u001B[0m\u001B[0;34m\"csr\"\u001B[0m\u001B[0;34m,\u001B[0m \u001B[0;34m\"csc\"\u001B[0m\u001B[0;34m)\u001B[0m\u001B[0;34m,\u001B[0m\u001B[0;34m\u001B[0m\u001B[0;34m\u001B[0m\u001B[0m\n",
      "\u001B[0;32m/usr/local/lib/python3.8/dist-packages/sklearn/base.py\u001B[0m in \u001B[0;36m_validate_data\u001B[0;34m(self, X, y, reset, validate_separately, **check_params)\u001B[0m\n\u001B[1;32m    555\u001B[0m             \u001B[0;32mraise\u001B[0m \u001B[0mValueError\u001B[0m\u001B[0;34m(\u001B[0m\u001B[0;34m\"Validation should be done on X, y or both.\"\u001B[0m\u001B[0;34m)\u001B[0m\u001B[0;34m\u001B[0m\u001B[0;34m\u001B[0m\u001B[0m\n\u001B[1;32m    556\u001B[0m         \u001B[0;32melif\u001B[0m \u001B[0;32mnot\u001B[0m \u001B[0mno_val_X\u001B[0m \u001B[0;32mand\u001B[0m \u001B[0mno_val_y\u001B[0m\u001B[0;34m:\u001B[0m\u001B[0;34m\u001B[0m\u001B[0;34m\u001B[0m\u001B[0m\n\u001B[0;32m--> 557\u001B[0;31m             \u001B[0mX\u001B[0m \u001B[0;34m=\u001B[0m \u001B[0mcheck_array\u001B[0m\u001B[0;34m(\u001B[0m\u001B[0mX\u001B[0m\u001B[0;34m,\u001B[0m \u001B[0;34m**\u001B[0m\u001B[0mcheck_params\u001B[0m\u001B[0;34m)\u001B[0m\u001B[0;34m\u001B[0m\u001B[0;34m\u001B[0m\u001B[0m\n\u001B[0m\u001B[1;32m    558\u001B[0m             \u001B[0mout\u001B[0m \u001B[0;34m=\u001B[0m \u001B[0mX\u001B[0m\u001B[0;34m\u001B[0m\u001B[0;34m\u001B[0m\u001B[0m\n\u001B[1;32m    559\u001B[0m         \u001B[0;32melif\u001B[0m \u001B[0mno_val_X\u001B[0m \u001B[0;32mand\u001B[0m \u001B[0;32mnot\u001B[0m \u001B[0mno_val_y\u001B[0m\u001B[0;34m:\u001B[0m\u001B[0;34m\u001B[0m\u001B[0;34m\u001B[0m\u001B[0m\n",
      "\u001B[0;32m/usr/local/lib/python3.8/dist-packages/sklearn/utils/validation.py\u001B[0m in \u001B[0;36mcheck_array\u001B[0;34m(array, accept_sparse, accept_large_sparse, dtype, order, copy, force_all_finite, ensure_2d, allow_nd, ensure_min_samples, ensure_min_features, estimator)\u001B[0m\n\u001B[1;32m    736\u001B[0m                     \u001B[0marray\u001B[0m \u001B[0;34m=\u001B[0m \u001B[0marray\u001B[0m\u001B[0;34m.\u001B[0m\u001B[0mastype\u001B[0m\u001B[0;34m(\u001B[0m\u001B[0mdtype\u001B[0m\u001B[0;34m,\u001B[0m \u001B[0mcasting\u001B[0m\u001B[0;34m=\u001B[0m\u001B[0;34m\"unsafe\"\u001B[0m\u001B[0;34m,\u001B[0m \u001B[0mcopy\u001B[0m\u001B[0;34m=\u001B[0m\u001B[0;32mFalse\u001B[0m\u001B[0;34m)\u001B[0m\u001B[0;34m\u001B[0m\u001B[0;34m\u001B[0m\u001B[0m\n\u001B[1;32m    737\u001B[0m                 \u001B[0;32melse\u001B[0m\u001B[0;34m:\u001B[0m\u001B[0;34m\u001B[0m\u001B[0;34m\u001B[0m\u001B[0m\n\u001B[0;32m--> 738\u001B[0;31m                     \u001B[0marray\u001B[0m \u001B[0;34m=\u001B[0m \u001B[0mnp\u001B[0m\u001B[0;34m.\u001B[0m\u001B[0masarray\u001B[0m\u001B[0;34m(\u001B[0m\u001B[0marray\u001B[0m\u001B[0;34m,\u001B[0m \u001B[0morder\u001B[0m\u001B[0;34m=\u001B[0m\u001B[0morder\u001B[0m\u001B[0;34m,\u001B[0m \u001B[0mdtype\u001B[0m\u001B[0;34m=\u001B[0m\u001B[0mdtype\u001B[0m\u001B[0;34m)\u001B[0m\u001B[0;34m\u001B[0m\u001B[0;34m\u001B[0m\u001B[0m\n\u001B[0m\u001B[1;32m    739\u001B[0m             \u001B[0;32mexcept\u001B[0m \u001B[0mComplexWarning\u001B[0m \u001B[0;32mas\u001B[0m \u001B[0mcomplex_warning\u001B[0m\u001B[0;34m:\u001B[0m\u001B[0;34m\u001B[0m\u001B[0;34m\u001B[0m\u001B[0m\n\u001B[1;32m    740\u001B[0m                 raise ValueError(\n",
      "\u001B[0;32m/usr/lib/python3/dist-packages/numpy/core/_asarray.py\u001B[0m in \u001B[0;36masarray\u001B[0;34m(a, dtype, order)\u001B[0m\n\u001B[1;32m     83\u001B[0m \u001B[0;34m\u001B[0m\u001B[0m\n\u001B[1;32m     84\u001B[0m     \"\"\"\n\u001B[0;32m---> 85\u001B[0;31m     \u001B[0;32mreturn\u001B[0m \u001B[0marray\u001B[0m\u001B[0;34m(\u001B[0m\u001B[0ma\u001B[0m\u001B[0;34m,\u001B[0m \u001B[0mdtype\u001B[0m\u001B[0;34m,\u001B[0m \u001B[0mcopy\u001B[0m\u001B[0;34m=\u001B[0m\u001B[0;32mFalse\u001B[0m\u001B[0;34m,\u001B[0m \u001B[0morder\u001B[0m\u001B[0;34m=\u001B[0m\u001B[0morder\u001B[0m\u001B[0;34m)\u001B[0m\u001B[0;34m\u001B[0m\u001B[0;34m\u001B[0m\u001B[0m\n\u001B[0m\u001B[1;32m     86\u001B[0m \u001B[0;34m\u001B[0m\u001B[0m\n\u001B[1;32m     87\u001B[0m \u001B[0;34m\u001B[0m\u001B[0m\n",
      "\u001B[0;32m/usr/local/lib/python3.8/dist-packages/pandas/core/generic.py\u001B[0m in \u001B[0;36m__array__\u001B[0;34m(self, dtype)\u001B[0m\n\u001B[1;32m   1991\u001B[0m \u001B[0;34m\u001B[0m\u001B[0m\n\u001B[1;32m   1992\u001B[0m     \u001B[0;32mdef\u001B[0m \u001B[0m__array__\u001B[0m\u001B[0;34m(\u001B[0m\u001B[0mself\u001B[0m\u001B[0;34m,\u001B[0m \u001B[0mdtype\u001B[0m\u001B[0;34m:\u001B[0m \u001B[0mNpDtype\u001B[0m \u001B[0;34m|\u001B[0m \u001B[0;32mNone\u001B[0m \u001B[0;34m=\u001B[0m \u001B[0;32mNone\u001B[0m\u001B[0;34m)\u001B[0m \u001B[0;34m->\u001B[0m \u001B[0mnp\u001B[0m\u001B[0;34m.\u001B[0m\u001B[0mndarray\u001B[0m\u001B[0;34m:\u001B[0m\u001B[0;34m\u001B[0m\u001B[0;34m\u001B[0m\u001B[0m\n\u001B[0;32m-> 1993\u001B[0;31m         \u001B[0;32mreturn\u001B[0m \u001B[0mnp\u001B[0m\u001B[0;34m.\u001B[0m\u001B[0masarray\u001B[0m\u001B[0;34m(\u001B[0m\u001B[0mself\u001B[0m\u001B[0;34m.\u001B[0m\u001B[0m_values\u001B[0m\u001B[0;34m,\u001B[0m \u001B[0mdtype\u001B[0m\u001B[0;34m=\u001B[0m\u001B[0mdtype\u001B[0m\u001B[0;34m)\u001B[0m\u001B[0;34m\u001B[0m\u001B[0;34m\u001B[0m\u001B[0m\n\u001B[0m\u001B[1;32m   1994\u001B[0m \u001B[0;34m\u001B[0m\u001B[0m\n\u001B[1;32m   1995\u001B[0m     def __array_wrap__(\n",
      "\u001B[0;32m/usr/lib/python3/dist-packages/numpy/core/_asarray.py\u001B[0m in \u001B[0;36masarray\u001B[0;34m(a, dtype, order)\u001B[0m\n\u001B[1;32m     83\u001B[0m \u001B[0;34m\u001B[0m\u001B[0m\n\u001B[1;32m     84\u001B[0m     \"\"\"\n\u001B[0;32m---> 85\u001B[0;31m     \u001B[0;32mreturn\u001B[0m \u001B[0marray\u001B[0m\u001B[0;34m(\u001B[0m\u001B[0ma\u001B[0m\u001B[0;34m,\u001B[0m \u001B[0mdtype\u001B[0m\u001B[0;34m,\u001B[0m \u001B[0mcopy\u001B[0m\u001B[0;34m=\u001B[0m\u001B[0;32mFalse\u001B[0m\u001B[0;34m,\u001B[0m \u001B[0morder\u001B[0m\u001B[0;34m=\u001B[0m\u001B[0morder\u001B[0m\u001B[0;34m)\u001B[0m\u001B[0;34m\u001B[0m\u001B[0;34m\u001B[0m\u001B[0m\n\u001B[0m\u001B[1;32m     86\u001B[0m \u001B[0;34m\u001B[0m\u001B[0m\n\u001B[1;32m     87\u001B[0m \u001B[0;34m\u001B[0m\u001B[0m\n",
      "\u001B[0;31mValueError\u001B[0m: could not convert string to float: 'DUO PDRE HAL/MAT02 AX/SOLA CN3 20G'"
     ]
    }
   ],
   "source": [
    "#Feature Scaling\n",
    "scaler = StandardScaler()\n",
    "scaler.fit(training_data)\n",
    "res = scaler.transform(training_data)"
   ],
   "metadata": {
    "collapsed": false,
    "pycharm": {
     "name": "#%%\n"
    }
   }
  },
  {
   "cell_type": "code",
   "execution_count": null,
   "outputs": [],
   "source": [
    "#Executing K means\n",
    "#9 clusters car 9 familles differentes-> training_data.drop_duplicates(['FAMILLE']\n",
    "label = KMeans(n_clusters=9, random_state=0).fit_predict(training_data)"
   ],
   "metadata": {
    "collapsed": false,
    "pycharm": {
     "name": "#%%\n"
    }
   }
  },
  {
   "cell_type": "code",
   "execution_count": null,
   "outputs": [],
   "source": [
    "u_labels = np.unique(label)\n",
    "\n",
    "for i in u_labels:\n",
    "    plt.scatter(res[label == i , 0] , res[label == i , 1] , label = i)"
   ],
   "metadata": {
    "collapsed": false,
    "pycharm": {
     "name": "#%%\n"
    }
   }
  }
 ],
 "metadata": {
  "kernelspec": {
   "display_name": "Python 3",
   "language": "python",
   "name": "python3"
  },
  "language_info": {
   "codemirror_mode": {
    "name": "ipython",
    "version": 2
   },
   "file_extension": ".py",
   "mimetype": "text/x-python",
   "name": "python",
   "nbconvert_exporter": "python",
   "pygments_lexer": "ipython2",
   "version": "2.7.6"
  }
 },
 "nbformat": 4,
 "nbformat_minor": 0
}