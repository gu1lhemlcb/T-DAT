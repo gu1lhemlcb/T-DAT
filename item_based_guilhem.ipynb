{
 "cells": [
  {
   "cell_type": "code",
   "execution_count": 117,
   "metadata": {
    "collapsed": true
   },
   "outputs": [],
   "source": [
    "import matplotlib.pyplot as plt\n",
    "import numpy as np\n",
    "import collections\n",
    "import pandas as pd\n",
    "import seaborn as sns\n",
    "from sklearn.preprocessing import LabelEncoder"
   ]
  },
  {
   "cell_type": "code",
   "execution_count": 118,
   "outputs": [
    {
     "data": {
      "text/plain": "   TICKET_ID  MOIS_VENTE  PRIX_NET          FAMILLE  \\\n0   35592159          10      1.67          HYGIENE   \n1   35592159          10      1.66          HYGIENE   \n2   35592159          10      7.45  SOINS DU VISAGE   \n3   35592159          10      5.95  SOINS DU VISAGE   \n4   35592159          10      1.67          HYGIENE   \n\n                       UNIVERS                MAILLE  \\\n0       HYG_DOUCHE JARDINMONDE               HYG_JDM   \n1       HYG_DOUCHE JARDINMONDE               HYG_JDM   \n2  VIS_CJOUR Jeunes Specifique    VIS_JEUNE_ET_LEVRE   \n3               VIS_DEMAQ AAAR  VIS_AAAR_DEMAQLOTION   \n4       HYG_DOUCHE JARDINMONDE               HYG_JDM   \n\n                           LIBELLE   CLI_ID  \n0    GD JDM4 PAMPLEMOUSSE FL 200ML  1490281  \n1    GD JDM4 PAMPLEMOUSSE FL 200ML  1490281  \n2  CR JR PARF BIO.SPE AC.SENT.50ML  1490281  \n3    EAU MICELLAIRE 3 THES FL200ML  1490281  \n4           GD JDM4 TIARE FL 200ML  1490281  ",
      "text/html": "<div>\n<style scoped>\n    .dataframe tbody tr th:only-of-type {\n        vertical-align: middle;\n    }\n\n    .dataframe tbody tr th {\n        vertical-align: top;\n    }\n\n    .dataframe thead th {\n        text-align: right;\n    }\n</style>\n<table border=\"1\" class=\"dataframe\">\n  <thead>\n    <tr style=\"text-align: right;\">\n      <th></th>\n      <th>TICKET_ID</th>\n      <th>MOIS_VENTE</th>\n      <th>PRIX_NET</th>\n      <th>FAMILLE</th>\n      <th>UNIVERS</th>\n      <th>MAILLE</th>\n      <th>LIBELLE</th>\n      <th>CLI_ID</th>\n    </tr>\n  </thead>\n  <tbody>\n    <tr>\n      <th>0</th>\n      <td>35592159</td>\n      <td>10</td>\n      <td>1.67</td>\n      <td>HYGIENE</td>\n      <td>HYG_DOUCHE JARDINMONDE</td>\n      <td>HYG_JDM</td>\n      <td>GD JDM4 PAMPLEMOUSSE FL 200ML</td>\n      <td>1490281</td>\n    </tr>\n    <tr>\n      <th>1</th>\n      <td>35592159</td>\n      <td>10</td>\n      <td>1.66</td>\n      <td>HYGIENE</td>\n      <td>HYG_DOUCHE JARDINMONDE</td>\n      <td>HYG_JDM</td>\n      <td>GD JDM4 PAMPLEMOUSSE FL 200ML</td>\n      <td>1490281</td>\n    </tr>\n    <tr>\n      <th>2</th>\n      <td>35592159</td>\n      <td>10</td>\n      <td>7.45</td>\n      <td>SOINS DU VISAGE</td>\n      <td>VIS_CJOUR Jeunes Specifique</td>\n      <td>VIS_JEUNE_ET_LEVRE</td>\n      <td>CR JR PARF BIO.SPE AC.SENT.50ML</td>\n      <td>1490281</td>\n    </tr>\n    <tr>\n      <th>3</th>\n      <td>35592159</td>\n      <td>10</td>\n      <td>5.95</td>\n      <td>SOINS DU VISAGE</td>\n      <td>VIS_DEMAQ AAAR</td>\n      <td>VIS_AAAR_DEMAQLOTION</td>\n      <td>EAU MICELLAIRE 3 THES FL200ML</td>\n      <td>1490281</td>\n    </tr>\n    <tr>\n      <th>4</th>\n      <td>35592159</td>\n      <td>10</td>\n      <td>1.67</td>\n      <td>HYGIENE</td>\n      <td>HYG_DOUCHE JARDINMONDE</td>\n      <td>HYG_JDM</td>\n      <td>GD JDM4 TIARE FL 200ML</td>\n      <td>1490281</td>\n    </tr>\n  </tbody>\n</table>\n</div>"
     },
     "execution_count": 118,
     "metadata": {},
     "output_type": "execute_result"
    }
   ],
   "source": [
    "pd.set_option('display.max_row', 111)\n",
    "pd.set_option('display.max_column', 111)\n",
    "\n",
    "data = pd.read_csv(\"~/Documents/DATASETS/students/KaDo.csv\")\n",
    "df = data.copy()\n",
    "small_df = data.copy()\n",
    "small_df.head()"
   ],
   "metadata": {
    "collapsed": false,
    "pycharm": {
     "name": "#%%\n"
    }
   }
  },
  {
   "cell_type": "code",
   "execution_count": 119,
   "outputs": [
    {
     "name": "stdout",
     "output_type": "stream",
     "text": [
      "(7245522, 8) TICKET_ID       int64\n",
      "MOIS_VENTE      int64\n",
      "PRIX_NET      float64\n",
      "FAMILLE        object\n",
      "UNIVERS        object\n",
      "MAILLE         object\n",
      "LIBELLE        object\n",
      "CLI_ID          int64\n",
      "dtype: object\n",
      "HYGIENE            2095077\n",
      "MAQUILLAGE         1694751\n",
      "SOINS DU VISAGE    1494034\n",
      "SOINS DU CORPS      878923\n",
      "PARFUMAGE           628087\n",
      "CAPILLAIRES         301365\n",
      "SOLAIRES            153254\n",
      "MULTI FAMILLES          30\n",
      "SANTE NATURELLE          1\n",
      "Name: FAMILLE, dtype: int64\n"
     ]
    },
    {
     "data": {
      "text/plain": "<matplotlib.axes._subplots.AxesSubplot at 0x7f45136cdc10>"
     },
     "execution_count": 119,
     "metadata": {},
     "output_type": "execute_result"
    },
    {
     "data": {
      "text/plain": "<Figure size 432x288 with 1 Axes>",
      "image/png": "[encoded data removed]"
     },
     "metadata": {},
     "output_type": "display_data"
    }
   ],
   "source": [
    "print(df.shape, df.dtypes)\n",
    "\n",
    "# Manipulation du DF pour constater quelles sont les mailles, univers, familles que l'on retrouve le plus\n",
    "print(df['FAMILLE'].value_counts())\n",
    "pd.crosstab(df['UNIVERS'], df['MAILLE'], dropna=True)\n",
    "\n",
    "#pd.value_counts(df['UNIVERS'])[:10].plot.pie()\n",
    "# Conclusion de la ligne du dessus, un univers est largement devant les autres, donc logiquement,\n",
    "# plusieurs mailles devraient l'etre devant les mailles d'un autre Univers\n",
    "\n",
    "#sns.displot(df['MAILLE'][:10], label='Maille')\n",
    "pd.value_counts(df['MAILLE'])[:10].plot.pie()"
   ],
   "metadata": {
    "collapsed": false,
    "pycharm": {
     "name": "#%%\n"
    }
   }
  },
  {
   "cell_type": "code",
   "execution_count": 120,
   "outputs": [
    {
     "data": {
      "text/plain": "TICKET_ID    -0.037016\nMOIS_VENTE   -0.034764\nPRIX_NET      1.000000\nCLI_ID       -0.035777\nName: PRIX_NET, dtype: float64"
     },
     "execution_count": 120,
     "metadata": {},
     "output_type": "execute_result"
    }
   ],
   "source": [
    "small_df.corr()['PRIX_NET']\n",
    "#sns.clustermap(df['UNIVERS'][:10].corr())\n",
    "#sns.pairplot(df['UNIVERS'])"
   ],
   "metadata": {
    "collapsed": false,
    "pycharm": {
     "name": "#%%\n"
    }
   }
  },
  {
   "cell_type": "code",
   "execution_count": 121,
   "outputs": [
    {
     "data": {
      "text/plain": "0.26043135683646707"
     },
     "execution_count": 121,
     "metadata": {},
     "output_type": "execute_result"
    }
   ],
   "source": [
    "encoder = LabelEncoder()\n",
    "small_df['UNIVERS_NUM'] = encoder.fit_transform(small_df['UNIVERS'])\n",
    "small_df['PRIX_NET'].corr(small_df['UNIVERS_NUM'])"
   ],
   "metadata": {
    "collapsed": false,
    "pycharm": {
     "name": "#%%\n"
    }
   }
  },
  {
   "cell_type": "code",
   "execution_count": 122,
   "outputs": [
    {
     "data": {
      "text/plain": "<seaborn.matrix.ClusterGrid at 0x7f451464af70>"
     },
     "execution_count": 122,
     "metadata": {},
     "output_type": "execute_result"
    },
    {
     "data": {
      "text/plain": "<Figure size 720x720 with 4 Axes>",
      "image/png": "[encoded data removed]"
     },
     "metadata": {
      "needs_background": "light"
     },
     "output_type": "display_data"
    }
   ],
   "source": [
    "sns.clustermap(small_df[small_df.columns].corr())"
   ],
   "metadata": {
    "collapsed": false,
    "pycharm": {
     "name": "#%%\n"
    }
   }
  },
  {
   "cell_type": "code",
   "execution_count": 123,
   "outputs": [
    {
     "data": {
      "text/plain": "<matplotlib.axes._subplots.AxesSubplot at 0x7f4496047760>"
     },
     "execution_count": 123,
     "metadata": {},
     "output_type": "execute_result"
    },
    {
     "data": {
      "text/plain": "<Figure size 432x288 with 2 Axes>",
      "image/png": "[encoded data removed]"
     },
     "metadata": {
      "needs_background": "light"
     },
     "output_type": "display_data"
    }
   ],
   "source": [
    "sns.heatmap(small_df[small_df.columns].corr())"
   ],
   "metadata": {
    "collapsed": false,
    "pycharm": {
     "name": "#%%\n"
    }
   }
  },
  {
   "cell_type": "code",
   "execution_count": 124,
   "outputs": [],
   "source": [
    "#Calcul des clients les plus dépensiers par mois et observation des univers les plus récurrents\n",
    "months = [month for month in range(1, 13)]\n",
    "top_clients_df = small_df.copy()\n",
    "\n",
    "for month in months:\n",
    "    res = top_clients_df[top_clients_df[\"MOIS_VENTE\"] == month]\n",
    "    res = res[[\"MOIS_VENTE\", \"PRIX_NET\", \"CLI_ID\", \"UNIVERS\"]]\n",
    "    # print(res)\n",
    "    most_recurrent_universes = res[[\"UNIVERS\"]].value_counts()\n",
    "    # print(\"UNIVERS most reccurent : \")\n",
    "    # sns.countplot(data=small_df, x=\"UNIVERS\", order=most_recurrent_universes.index)\n",
    "    clients = res.groupby(\"CLI_ID\")[\"PRIX_NET\"]\\\n",
    "        .sum().sort_values(ascending=False)\n",
    "    # print(\"Month : \", month, \"\\n\")\n",
    "    # print(clients.head(20), \"\\n\")\n"
   ],
   "metadata": {
    "collapsed": false,
    "pycharm": {
     "name": "#%%\n"
    }
   }
  },
  {
   "cell_type": "code",
   "execution_count": 125,
   "outputs": [
    {
     "name": "stdout",
     "output_type": "stream",
     "text": [
      "MAILLE\n",
      "PARF_PARFUM                    16.287199\n",
      "PARF_HOMME                     15.231901\n",
      "DIETETIQUE                     14.950000\n",
      "VIS_AAAR_HORS_DEMAQLOTION      14.948817\n",
      "MAQ_AUTRE                      12.553446\n",
      "MAQ_YEUX_MASCA_HG              10.125139\n",
      "CORPS_SPA_ET_MINCEUR            9.377078\n",
      "MAQ_TEINT                       8.651690\n",
      "VIS_BIO                         7.576443\n",
      "SOLAIRE                         7.538339\n",
      "MAQ_YEUX_MASCA_EYEL_FARD        7.336891\n",
      "MAQ_LEV_RAL_HMG                 7.017906\n",
      "CORPS_MONOI                     6.253680\n",
      "VIS_AAAR_DEMAQLOTION            5.964277\n",
      "VIS_HOMMES                      5.894716\n",
      "PARF_EDT                        5.578628\n",
      "HYG_PARFUMEE                    5.524059\n",
      "CAPILLAIRE_AUTRE                4.686499\n",
      "CORPS_HYDRA_NOURRI_ET_SOINS     4.385843\n",
      "MAQ_LEV_BASPRIX                 4.304937\n",
      "CORPS_HYDR_LAIT_HUILE           4.288935\n",
      "MAQ_YEUX_CLASSIQUE              4.263171\n",
      "HYG_HOMME                       4.250896\n",
      "VIS_AUTRES                      4.005125\n",
      "VIS_JEUNE_ET_LEVRE              3.828524\n",
      "MULTIFAMILLES                   3.769231\n",
      "VIS_PUR                         3.714638\n",
      "HYG_AUTRES                      3.278624\n",
      "CAPILLAIRE_SHAMPOING            3.277996\n",
      "MAQ_ONGLES                      3.004807\n",
      "HYG_PLAISIRNAT_BAIN_SAVON       2.781859\n",
      "HYG_MONOI_ET_EDIT_SPEC          2.338894\n",
      "HYG_CULTUREBIO                  2.231727\n",
      "HYG_JDM                         1.746392\n",
      "Name: PRIX_NET, dtype: float64\n",
      "MAILLE\n",
      "VIS_AAAR_HORS_DEMAQLOTION      18.559270\n",
      "PARF_PARFUM                    18.263243\n",
      "PARF_HOMME                     18.187355\n",
      "MAQ_AUTRE                      13.810649\n",
      "MAQ_YEUX_MASCA_HG              11.829033\n",
      "MAQ_TEINT                      11.597571\n",
      "CORPS_SPA_ET_MINCEUR           10.882795\n",
      "SOLAIRE                        10.460324\n",
      "VIS_HOMMES                      9.211214\n",
      "MAQ_LEV_RAL_HMG                 9.186935\n",
      "MAQ_YEUX_MASCA_EYEL_FARD        9.131947\n",
      "CORPS_MONOI                     8.689390\n",
      "VIS_BIO                         8.398956\n",
      "VIS_AAAR_DEMAQLOTION            6.788453\n",
      "HYG_PARFUMEE                    6.478186\n",
      "HYG_HOMME                       5.950077\n",
      "MAQ_YEUX_CLASSIQUE              5.691224\n",
      "PARF_EDT                        5.538576\n",
      "CAPILLAIRE_AUTRE                5.458840\n",
      "MAQ_LEV_BASPRIX                 5.329029\n",
      "CORPS_HYDRA_NOURRI_ET_SOINS     5.308947\n",
      "VIS_JEUNE_ET_LEVRE              5.049926\n",
      "CORPS_HYDR_LAIT_HUILE           5.022527\n",
      "HYG_AUTRES                      4.874454\n",
      "VIS_AUTRES                      4.613645\n",
      "VIS_PUR                         4.361757\n",
      "CAPILLAIRE_SHAMPOING            4.064504\n",
      "MAQ_ONGLES                      3.619731\n",
      "MULTIFAMILLES                   3.500000\n",
      "HYG_MONOI_ET_EDIT_SPEC          3.362619\n",
      "HYG_PLAISIRNAT_BAIN_SAVON       2.997510\n",
      "HYG_CULTUREBIO                  2.811065\n",
      "HYG_JDM                         2.116453\n",
      "Name: PRIX_NET, dtype: float64\n",
      "MAILLE\n",
      "VIS_AAAR_HORS_DEMAQLOTION      17.714547\n",
      "MAQ_AUTRE                      17.595652\n",
      "PARF_HOMME                     17.291359\n",
      "PARF_PARFUM                    17.122152\n",
      "MAQ_YEUX_MASCA_HG              11.341307\n",
      "CORPS_SPA_ET_MINCEUR           11.260287\n",
      "MAQ_TEINT                      10.700196\n",
      "SOLAIRE                         9.343274\n",
      "MAQ_YEUX_MASCA_EYEL_FARD        8.873553\n",
      "VIS_HOMMES                      8.306299\n",
      "MAQ_LEV_RAL_HMG                 8.256046\n",
      "VIS_BIO                         7.634734\n",
      "CORPS_MONOI                     7.628697\n",
      "VIS_AAAR_DEMAQLOTION            6.656100\n",
      "PARF_EDT                        5.607464\n",
      "CAPILLAIRE_AUTRE                5.567138\n",
      "MAQ_LEV_BASPRIX                 5.383420\n",
      "MAQ_YEUX_CLASSIQUE              5.116847\n",
      "MULTIFAMILLES                   5.000000\n",
      "HYG_HOMME                       4.947989\n",
      "CORPS_HYDRA_NOURRI_ET_SOINS     4.933315\n",
      "CORPS_HYDR_LAIT_HUILE           4.897315\n",
      "HYG_AUTRES                      4.849561\n",
      "VIS_AUTRES                      4.808670\n",
      "VIS_JEUNE_ET_LEVRE              4.576417\n",
      "VIS_PUR                         4.169708\n",
      "CAPILLAIRE_SHAMPOING            3.880218\n",
      "HYG_PARFUMEE                    3.714066\n",
      "HYG_MONOI_ET_EDIT_SPEC          3.169612\n",
      "MAQ_ONGLES                      3.121480\n",
      "HYG_CULTUREBIO                  2.908045\n",
      "HYG_PLAISIRNAT_BAIN_SAVON       2.594344\n",
      "HYG_JDM                         2.103756\n",
      "Name: PRIX_NET, dtype: float64\n",
      "MAILLE\n",
      "MAQ_AUTRE                      18.512593\n",
      "VIS_AAAR_HORS_DEMAQLOTION      17.726005\n",
      "PARF_PARFUM                    17.270495\n",
      "PARF_HOMME                     17.213354\n",
      "MAQ_TEINT                      11.322387\n",
      "CORPS_SPA_ET_MINCEUR           10.719924\n",
      "MAQ_YEUX_MASCA_HG              10.683804\n",
      "SOLAIRE                         8.895260\n",
      "MAQ_LEV_RAL_HMG                 8.872530\n",
      "VIS_HOMMES                      8.862429\n",
      "MAQ_YEUX_MASCA_EYEL_FARD        8.720497\n",
      "VIS_BIO                         8.702380\n",
      "PARF_EDT                        6.525927\n",
      "VIS_AAAR_DEMAQLOTION            6.409646\n",
      "CORPS_MONOI                     6.401397\n",
      "MAQ_LEV_BASPRIX                 5.515166\n",
      "HYG_PARFUMEE                    5.371341\n",
      "CAPILLAIRE_AUTRE                5.285951\n",
      "MAQ_YEUX_CLASSIQUE              5.136861\n",
      "CORPS_HYDRA_NOURRI_ET_SOINS     5.092467\n",
      "HYG_HOMME                       5.092153\n",
      "MULTIFAMILLES                   5.000000\n",
      "HYG_AUTRES                      4.976133\n",
      "CORPS_HYDR_LAIT_HUILE           4.897455\n",
      "VIS_JEUNE_ET_LEVRE              4.719969\n",
      "VIS_AUTRES                      4.661133\n",
      "VIS_PUR                         3.901571\n",
      "CAPILLAIRE_SHAMPOING            3.899145\n",
      "HYG_CULTUREBIO                  2.890426\n",
      "HYG_MONOI_ET_EDIT_SPEC          2.834956\n",
      "MAQ_ONGLES                      2.619904\n",
      "HYG_PLAISIRNAT_BAIN_SAVON       2.612788\n",
      "HYG_JDM                         2.070997\n",
      "Name: PRIX_NET, dtype: float64\n",
      "MAILLE\n",
      "PARF_HOMME                     19.880346\n",
      "VIS_AAAR_HORS_DEMAQLOTION      19.639345\n",
      "PARF_PARFUM                    16.945127\n",
      "MAQ_AUTRE                      15.650000\n",
      "MAQ_YEUX_MASCA_HG              14.536374\n",
      "MAQ_TEINT                      13.245365\n",
      "CORPS_SPA_ET_MINCEUR           11.471196\n",
      "MAQ_YEUX_MASCA_EYEL_FARD       10.334828\n",
      "VIS_HOMMES                     10.118634\n",
      "VIS_BIO                        10.044503\n",
      "PARF_EDT                        9.855733\n",
      "MAQ_LEV_RAL_HMG                 8.900231\n",
      "SOLAIRE                         8.644060\n",
      "VIS_AAAR_DEMAQLOTION            8.046823\n",
      "CORPS_MONOI                     7.029969\n",
      "HYG_PARFUMEE                    6.143572\n",
      "MAQ_YEUX_CLASSIQUE              6.129858\n",
      "CAPILLAIRE_AUTRE                6.004648\n",
      "CORPS_HYDRA_NOURRI_ET_SOINS     5.989497\n",
      "HYG_HOMME                       5.978211\n",
      "MAQ_LEV_BASPRIX                 5.781063\n",
      "VIS_AUTRES                      5.393350\n",
      "CORPS_HYDR_LAIT_HUILE           5.348946\n",
      "HYG_AUTRES                      5.249214\n",
      "VIS_JEUNE_ET_LEVRE              5.178575\n",
      "MULTIFAMILLES                   5.000000\n",
      "CAPILLAIRE_SHAMPOING            4.711686\n",
      "VIS_PUR                         4.138157\n",
      "HYG_CULTUREBIO                  3.187719\n",
      "MAQ_ONGLES                      3.168344\n",
      "HYG_PLAISIRNAT_BAIN_SAVON       2.936029\n",
      "HYG_MONOI_ET_EDIT_SPEC          2.658650\n",
      "HYG_JDM                         2.212064\n",
      "Name: PRIX_NET, dtype: float64\n",
      "MAILLE\n",
      "PARF_HOMME                     16.439914\n",
      "VIS_AAAR_HORS_DEMAQLOTION      16.438466\n",
      "PARF_PARFUM                    14.414898\n",
      "MAQ_AUTRE                      14.400000\n",
      "MAQ_YEUX_MASCA_HG              11.014966\n",
      "MAQ_TEINT                      10.149873\n",
      "CORPS_SPA_ET_MINCEUR           10.003360\n",
      "PARF_EDT                        8.540067\n",
      "MAQ_YEUX_MASCA_EYEL_FARD        8.278264\n",
      "VIS_HOMMES                      7.801522\n",
      "VIS_BIO                         7.030117\n",
      "SOLAIRE                         6.950738\n",
      "MAQ_LEV_RAL_HMG                 6.754170\n",
      "CORPS_MONOI                     6.290554\n",
      "VIS_AAAR_DEMAQLOTION            6.231567\n",
      "HYG_PARFUMEE                    5.449293\n",
      "MULTIFAMILLES                   5.000000\n",
      "CAPILLAIRE_AUTRE                4.934575\n",
      "CORPS_HYDRA_NOURRI_ET_SOINS     4.892633\n",
      "MAQ_LEV_BASPRIX                 4.863974\n",
      "HYG_AUTRES                      4.747222\n",
      "CORPS_HYDR_LAIT_HUILE           4.611747\n",
      "MAQ_YEUX_CLASSIQUE              4.575187\n",
      "VIS_AUTRES                      4.523480\n",
      "VIS_JEUNE_ET_LEVRE              4.406841\n",
      "HYG_HOMME                       4.360430\n",
      "VIS_PUR                         3.976387\n",
      "CAPILLAIRE_SHAMPOING            3.353648\n",
      "HYG_PLAISIRNAT_BAIN_SAVON       3.068709\n",
      "MAQ_ONGLES                      2.834708\n",
      "HYG_MONOI_ET_EDIT_SPEC          2.502275\n",
      "HYG_CULTUREBIO                  2.413132\n",
      "HYG_JDM                         1.867907\n",
      "Name: PRIX_NET, dtype: float64\n",
      "MAILLE\n",
      "VIS_AAAR_HORS_DEMAQLOTION      15.728024\n",
      "PARF_HOMME                     15.155783\n",
      "PARF_PARFUM                    14.246207\n",
      "MAQ_AUTRE                      10.542840\n",
      "MAQ_YEUX_MASCA_HG              10.091794\n",
      "CORPS_SPA_ET_MINCEUR            9.378641\n",
      "MAQ_TEINT                       9.156557\n",
      "PARF_EDT                        7.790626\n",
      "MAQ_YEUX_MASCA_EYEL_FARD        7.628430\n",
      "VIS_HOMMES                      7.609537\n",
      "SOLAIRE                         7.030870\n",
      "VIS_BIO                         6.937310\n",
      "MAQ_LEV_RAL_HMG                 6.579360\n",
      "VIS_AAAR_DEMAQLOTION            6.026910\n",
      "CORPS_MONOI                     6.010438\n",
      "HYG_PARFUMEE                    5.380430\n",
      "CORPS_HYDR_LAIT_HUILE           4.911063\n",
      "CORPS_HYDRA_NOURRI_ET_SOINS     4.864139\n",
      "CAPILLAIRE_AUTRE                4.502962\n",
      "MAQ_LEV_BASPRIX                 4.491938\n",
      "HYG_AUTRES                      4.433092\n",
      "VIS_JEUNE_ET_LEVRE              4.307064\n",
      "VIS_AUTRES                      4.296106\n",
      "MAQ_YEUX_CLASSIQUE              4.287521\n",
      "HYG_HOMME                       4.006844\n",
      "VIS_PUR                         3.834112\n",
      "CAPILLAIRE_SHAMPOING            3.200603\n",
      "HYG_PLAISIRNAT_BAIN_SAVON       2.912367\n",
      "MAQ_ONGLES                      2.758739\n",
      "HYG_MONOI_ET_EDIT_SPEC          2.524133\n",
      "HYG_CULTUREBIO                  2.283767\n",
      "HYG_JDM                         1.737918\n",
      "Name: PRIX_NET, dtype: float64\n",
      "MAILLE\n",
      "VIS_AAAR_HORS_DEMAQLOTION      17.073602\n",
      "PARF_HOMME                     16.888399\n",
      "MAQ_AUTRE                      15.492308\n",
      "PARF_PARFUM                    13.936807\n",
      "MAQ_YEUX_MASCA_HG              12.195109\n",
      "MAQ_TEINT                      11.054664\n",
      "CORPS_SPA_ET_MINCEUR           10.061421\n",
      "VIS_HOMMES                      9.178185\n",
      "MAQ_YEUX_MASCA_EYEL_FARD        8.734780\n",
      "MAQ_LEV_RAL_HMG                 7.937738\n",
      "SOLAIRE                         7.409130\n",
      "VIS_BIO                         7.366932\n",
      "PARF_EDT                        6.609722\n",
      "CORPS_MONOI                     6.472182\n",
      "VIS_AAAR_DEMAQLOTION            6.241539\n",
      "HYG_PARFUMEE                    5.703655\n",
      "MAQ_LEV_BASPRIX                 4.916200\n",
      "CORPS_HYDRA_NOURRI_ET_SOINS     4.893040\n",
      "HYG_AUTRES                      4.832959\n",
      "CORPS_HYDR_LAIT_HUILE           4.826210\n",
      "HYG_HOMME                       4.728253\n",
      "MAQ_YEUX_CLASSIQUE              4.608286\n",
      "CAPILLAIRE_AUTRE                4.465381\n",
      "VIS_JEUNE_ET_LEVRE              4.462929\n",
      "VIS_AUTRES                      4.261617\n",
      "VIS_PUR                         3.897212\n",
      "CAPILLAIRE_SHAMPOING            3.758871\n",
      "HYG_PLAISIRNAT_BAIN_SAVON       3.034721\n",
      "HYG_MONOI_ET_EDIT_SPEC          2.628111\n",
      "MAQ_ONGLES                      2.502818\n",
      "HYG_CULTUREBIO                  2.494989\n",
      "HYG_JDM                         1.816365\n",
      "Name: PRIX_NET, dtype: float64\n",
      "MAILLE\n",
      "PARF_PARFUM                    18.759342\n",
      "PARF_HOMME                     17.436330\n",
      "VIS_AAAR_HORS_DEMAQLOTION      17.182263\n",
      "MAQ_AUTRE                      13.060000\n",
      "MAQ_YEUX_MASCA_HG              11.967756\n",
      "MAQ_TEINT                      11.234121\n",
      "CORPS_SPA_ET_MINCEUR           10.374475\n",
      "SOLAIRE                         9.453075\n",
      "VIS_HOMMES                      9.092427\n",
      "MAQ_YEUX_MASCA_EYEL_FARD        9.048294\n",
      "MAQ_LEV_RAL_HMG                 8.118820\n",
      "CORPS_MONOI                     7.913844\n",
      "VIS_BIO                         7.374682\n",
      "VIS_AAAR_DEMAQLOTION            6.418026\n",
      "HYG_PARFUMEE                    6.009184\n",
      "PARF_EDT                        5.937526\n",
      "MAQ_LEV_BASPRIX                 5.288413\n",
      "CORPS_HYDR_LAIT_HUILE           5.067931\n",
      "CAPILLAIRE_AUTRE                5.024088\n",
      "HYG_AUTRES                      5.009985\n",
      "HYG_HOMME                       4.973777\n",
      "CORPS_HYDRA_NOURRI_ET_SOINS     4.926759\n",
      "MAQ_YEUX_CLASSIQUE              4.925945\n",
      "VIS_JEUNE_ET_LEVRE              4.722744\n",
      "VIS_AUTRES                      4.161374\n",
      "VIS_PUR                         4.000080\n",
      "CAPILLAIRE_SHAMPOING            3.603863\n",
      "HYG_PLAISIRNAT_BAIN_SAVON       3.064172\n",
      "MAQ_ONGLES                      2.916922\n",
      "HYG_CULTUREBIO                  2.561765\n",
      "HYG_MONOI_ET_EDIT_SPEC          1.882859\n",
      "HYG_JDM                         1.851963\n",
      "Name: PRIX_NET, dtype: float64\n",
      "MAILLE\n",
      "MAQ_AUTRE                      20.935500\n",
      "PARF_PARFUM                    19.288573\n",
      "PARF_HOMME                     17.280664\n",
      "VIS_AAAR_HORS_DEMAQLOTION      16.312430\n",
      "MAQ_YEUX_MASCA_HG              12.344413\n",
      "MAQ_TEINT                      10.888355\n",
      "CORPS_SPA_ET_MINCEUR           10.602487\n",
      "MAQ_YEUX_MASCA_EYEL_FARD        9.244755\n",
      "VIS_HOMMES                      8.298634\n",
      "SOLAIRE                         8.202641\n",
      "MAQ_LEV_RAL_HMG                 8.119969\n",
      "CORPS_MONOI                     6.974414\n",
      "VIS_BIO                         6.788874\n",
      "VIS_AAAR_DEMAQLOTION            6.235626\n",
      "HYG_PARFUMEE                    6.078569\n",
      "MULTIFAMILLES                   6.000000\n",
      "MAQ_LEV_BASPRIX                 5.698570\n",
      "PARF_EDT                        5.679138\n",
      "CAPILLAIRE_AUTRE                5.444896\n",
      "HYG_AUTRES                      5.281590\n",
      "CORPS_HYDR_LAIT_HUILE           4.959233\n",
      "CORPS_HYDRA_NOURRI_ET_SOINS     4.829310\n",
      "HYG_HOMME                       4.751702\n",
      "MAQ_YEUX_CLASSIQUE              4.432886\n",
      "VIS_AUTRES                      4.374466\n",
      "VIS_JEUNE_ET_LEVRE              4.082100\n",
      "VIS_PUR                         3.951187\n",
      "CAPILLAIRE_SHAMPOING            3.802763\n",
      "MAQ_ONGLES                      3.170285\n",
      "HYG_PLAISIRNAT_BAIN_SAVON       2.870401\n",
      "HYG_CULTUREBIO                  2.546586\n",
      "HYG_MONOI_ET_EDIT_SPEC          2.234177\n",
      "HYG_JDM                         2.040303\n",
      "Name: PRIX_NET, dtype: float64\n",
      "MAILLE\n",
      "PARF_PARFUM                    19.892969\n",
      "MAQ_AUTRE                      19.542931\n",
      "VIS_AAAR_HORS_DEMAQLOTION      19.394210\n",
      "PARF_HOMME                     18.470093\n",
      "MAQ_YEUX_MASCA_HG              13.709832\n",
      "MAQ_TEINT                      12.344191\n",
      "CORPS_SPA_ET_MINCEUR           11.623678\n",
      "SOLAIRE                        10.939874\n",
      "MAQ_YEUX_MASCA_EYEL_FARD       10.373230\n",
      "CORPS_MONOI                     9.961632\n",
      "MAQ_LEV_RAL_HMG                 9.734312\n",
      "VIS_HOMMES                      9.686745\n",
      "VIS_BIO                         8.863154\n",
      "VIS_AAAR_DEMAQLOTION            6.685487\n",
      "HYG_PARFUMEE                    6.531790\n",
      "MAQ_LEV_BASPRIX                 6.475181\n",
      "HYG_HOMME                       6.017880\n",
      "PARF_EDT                        5.977803\n",
      "CAPILLAIRE_AUTRE                5.886211\n",
      "HYG_AUTRES                      5.586087\n",
      "CORPS_HYDR_LAIT_HUILE           5.422711\n",
      "MAQ_YEUX_CLASSIQUE              5.410911\n",
      "VIS_AUTRES                      5.043217\n",
      "MULTIFAMILLES                   5.000000\n",
      "VIS_PUR                         4.401601\n",
      "CORPS_HYDRA_NOURRI_ET_SOINS     4.371464\n",
      "CAPILLAIRE_SHAMPOING            4.255183\n",
      "VIS_JEUNE_ET_LEVRE              4.167401\n",
      "HYG_CULTUREBIO                  3.118754\n",
      "MAQ_ONGLES                      3.092841\n",
      "HYG_PLAISIRNAT_BAIN_SAVON       2.846315\n",
      "HYG_MONOI_ET_EDIT_SPEC          2.764197\n",
      "HYG_JDM                         2.376886\n",
      "Name: PRIX_NET, dtype: float64\n",
      "MAILLE\n",
      "MAQ_AUTRE                      19.956255\n",
      "VIS_AAAR_HORS_DEMAQLOTION      17.541456\n",
      "PARF_PARFUM                    17.152495\n",
      "PARF_HOMME                     16.701696\n",
      "MAQ_YEUX_MASCA_HG              12.013633\n",
      "MAQ_TEINT                      10.765375\n",
      "CORPS_SPA_ET_MINCEUR           10.249624\n",
      "MAQ_YEUX_MASCA_EYEL_FARD        9.221254\n",
      "SOLAIRE                         9.055067\n",
      "VIS_HOMMES                      8.882362\n",
      "MAQ_LEV_RAL_HMG                 8.415536\n",
      "CORPS_MONOI                     8.400209\n",
      "VIS_BIO                         7.581761\n",
      "VIS_AAAR_DEMAQLOTION            6.077979\n",
      "HYG_HOMME                       5.940513\n",
      "MAQ_LEV_BASPRIX                 5.746023\n",
      "HYG_AUTRES                      5.264093\n",
      "PARF_EDT                        5.192881\n",
      "HYG_PARFUMEE                    5.018989\n",
      "MULTIFAMILLES                   5.000000\n",
      "MAQ_YEUX_CLASSIQUE              4.862512\n",
      "CAPILLAIRE_AUTRE                4.751995\n",
      "VIS_AUTRES                      4.496380\n",
      "VIS_PUR                         4.141838\n",
      "CORPS_HYDR_LAIT_HUILE           3.969025\n",
      "CORPS_HYDRA_NOURRI_ET_SOINS     3.806628\n",
      "VIS_JEUNE_ET_LEVRE              3.768404\n",
      "CAPILLAIRE_SHAMPOING            3.604048\n",
      "HYG_MONOI_ET_EDIT_SPEC          2.904950\n",
      "HYG_CULTUREBIO                  2.764547\n",
      "MAQ_ONGLES                      2.537437\n",
      "HYG_PLAISIRNAT_BAIN_SAVON       2.469757\n",
      "HYG_JDM                         2.291027\n",
      "Name: PRIX_NET, dtype: float64\n"
     ]
    }
   ],
   "source": [
    "# Calcul des mailles les plus onéreuses afin de les proposer aux clients les plus dépensiers\n",
    "top_mailles = []\n",
    "for month in months:\n",
    "    top_expensive = small_df.copy()\n",
    "    top_expensive = top_expensive[top_expensive[\"MOIS_VENTE\"] == month]\n",
    "    top_expensive = top_expensive[[\"MAILLE\", \"PRIX_NET\"]]\\\n",
    "        .groupby(\"MAILLE\")['PRIX_NET'].mean().sort_values(ascending=False)\n",
    "    print(top_expensive)\n",
    "    mailles = top_expensive.index.tolist()\n",
    "    # print(\"Month : \", month, '\\n')\n",
    "    # print(top_expensive.head(20), '\\n')\n",
    "    for maille in mailles:\n",
    "        top_mailles.append(maille)\n",
    "counter = collections.Counter(top_mailles)\n",
    "\n",
    "# Conclusion -> avec le counter ci-dessus on observe les mailles onéreuses que l'on retrouve pour la\n",
    "# plupart chaque mois"
   ],
   "metadata": {
    "collapsed": false,
    "pycharm": {
     "name": "#%%\n"
    }
   }
  },
  {
   "cell_type": "code",
   "execution_count": 126,
   "outputs": [],
   "source": [
    "# Parmi le top des mailles , quels sont les libéllés que l'on retrouve le plus chez chacun\n",
    "\n",
    "#mailles_np_list = np.array(c for c in counter.keys())\n",
    "top_libelles_par_mailles = {}\n",
    "libelles_df = small_df.copy()\n",
    "for key in counter.keys():\n",
    "    lbl_list = []\n",
    "    df_lbl = libelles_df[libelles_df[\"MAILLE\"] == key]\n",
    "    top_lbl = df_lbl.value_counts().head(10)\n",
    "    for x in range(0, top_lbl.shape[0]):\n",
    "        lbl_list.append(top_lbl.index[x][6])\n",
    "        top_libelles_par_mailles[key] = lbl_list"
   ],
   "metadata": {
    "collapsed": false,
    "pycharm": {
     "name": "#%%\n"
    }
   }
  },
  {
   "cell_type": "code",
   "execution_count": 131,
   "outputs": [
    {
     "name": "stdout",
     "output_type": "stream",
     "text": [
      "Products the client bought :  {'GD JDM4 PAMPLEMOUSSE FL 200ML', 'GD JDM4 TIARE FL 200ML'}\n",
      "Top products for this maille :  {'GD JDM4 TIARE FL 200ML', 'GD JDM4 GRENADE FL200ML', 'GD JDM4 LOTUS FL200ML', 'CD JDM4 RIZ VIOLET FL200 ML', 'GD JDM4 PAMPLEMOUSSE FL 200ML', 'GD JDM4 ORANGE FL 200ML', 'CD JDM4 MAGNOLIA FL 200ML', 'CD JDM4 COTON  FL 200ML', 'GD JDM4 CIT VERT FL 200ML'}\n",
      "Recommended products :  {'GD JDM4 GRENADE FL200ML', 'GD JDM4 LOTUS FL200ML', 'CD JDM4 RIZ VIOLET FL200 ML', 'GD JDM4 ORANGE FL 200ML', 'CD JDM4 MAGNOLIA FL 200ML', 'CD JDM4 COTON  FL 200ML', 'GD JDM4 CIT VERT FL 200ML'}\n"
     ]
    }
   ],
   "source": [
    "# En choisissant un cli_id, on lui recommande les libelles qu'il ne possède pas d'une maille\n",
    "# Le libelle proposé fait partie des plus vendus chez cette maille\n",
    "\n",
    "cli_id = 1490281\n",
    "maille = 'HYG_JDM'\n",
    "\n",
    "cli_id_df = small_df.copy()\n",
    "cli_id_df = cli_id_df[(cli_id_df['CLI_ID'] == cli_id) & (cli_id_df['MAILLE'] == maille)]\n",
    "# encoder = LabelEncoder()\n",
    "# cli_id_df['MAILLE_NUM'] = encoder.fit_transform(cli_id_df['MAILLE'])\n",
    "cli_id_libelles = cli_id_df['LIBELLE'].tolist()\n",
    "cli_id_libelles = set(cli_id_libelles)\n",
    "print('Products the client bought : ' , cli_id_libelles)\n",
    "print(\"Top products for this maille : \", set(top_libelles_par_mailles[maille]))\n",
    "print('Recommended products : ', set(top_libelles_par_mailles[maille]).difference(cli_id_libelles))\n"
   ],
   "metadata": {
    "collapsed": false,
    "pycharm": {
     "name": "#%%\n"
    }
   }
  }
 ],
 "metadata": {
  "kernelspec": {
   "name": "python3",
   "language": "python",
   "display_name": "Python 3 (ipykernel)"
  },
  "language_info": {
   "codemirror_mode": {
    "name": "ipython",
    "version": 2
   },
   "file_extension": ".py",
   "mimetype": "text/x-python",
   "name": "python",
   "nbconvert_exporter": "python",
   "pygments_lexer": "ipython2",
   "version": "2.7.6"
  }
 },
 "nbformat": 4,
 "nbformat_minor": 0
}