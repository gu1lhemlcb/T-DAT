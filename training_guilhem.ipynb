{
 "cells": [
  {
   "cell_type": "code",
   "execution_count": 1,
   "metadata": {
    "collapsed": true
   },
   "outputs": [],
   "source": [
    "import matplotlib.pyplot as plt\n",
    "import numpy as np\n",
    "import pandas as pd\n",
    "import seaborn as sns\n",
    "from sklearn.preprocessing import LabelEncoder"
   ]
  },
  {
   "cell_type": "code",
   "execution_count": 2,
   "outputs": [
    {
     "data": {
      "text/plain": "   TICKET_ID  MOIS_VENTE  PRIX_NET          FAMILLE  \\\n0   35592159          10      1.67          HYGIENE   \n1   35592159          10      1.66          HYGIENE   \n2   35592159          10      7.45  SOINS DU VISAGE   \n3   35592159          10      5.95  SOINS DU VISAGE   \n4   35592159          10      1.67          HYGIENE   \n\n                       UNIVERS                MAILLE  \\\n0       HYG_DOUCHE JARDINMONDE               HYG_JDM   \n1       HYG_DOUCHE JARDINMONDE               HYG_JDM   \n2  VIS_CJOUR Jeunes Specifique    VIS_JEUNE_ET_LEVRE   \n3               VIS_DEMAQ AAAR  VIS_AAAR_DEMAQLOTION   \n4       HYG_DOUCHE JARDINMONDE               HYG_JDM   \n\n                           LIBELLE   CLI_ID  \n0    GD JDM4 PAMPLEMOUSSE FL 200ML  1490281  \n1    GD JDM4 PAMPLEMOUSSE FL 200ML  1490281  \n2  CR JR PARF BIO.SPE AC.SENT.50ML  1490281  \n3    EAU MICELLAIRE 3 THES FL200ML  1490281  \n4           GD JDM4 TIARE FL 200ML  1490281  ",
      "text/html": "<div>\n<style scoped>\n    .dataframe tbody tr th:only-of-type {\n        vertical-align: middle;\n    }\n\n    .dataframe tbody tr th {\n        vertical-align: top;\n    }\n\n    .dataframe thead th {\n        text-align: right;\n    }\n</style>\n<table border=\"1\" class=\"dataframe\">\n  <thead>\n    <tr style=\"text-align: right;\">\n      <th></th>\n      <th>TICKET_ID</th>\n      <th>MOIS_VENTE</th>\n      <th>PRIX_NET</th>\n      <th>FAMILLE</th>\n      <th>UNIVERS</th>\n      <th>MAILLE</th>\n      <th>LIBELLE</th>\n      <th>CLI_ID</th>\n    </tr>\n  </thead>\n  <tbody>\n    <tr>\n      <th>0</th>\n      <td>35592159</td>\n      <td>10</td>\n      <td>1.67</td>\n      <td>HYGIENE</td>\n      <td>HYG_DOUCHE JARDINMONDE</td>\n      <td>HYG_JDM</td>\n      <td>GD JDM4 PAMPLEMOUSSE FL 200ML</td>\n      <td>1490281</td>\n    </tr>\n    <tr>\n      <th>1</th>\n      <td>35592159</td>\n      <td>10</td>\n      <td>1.66</td>\n      <td>HYGIENE</td>\n      <td>HYG_DOUCHE JARDINMONDE</td>\n      <td>HYG_JDM</td>\n      <td>GD JDM4 PAMPLEMOUSSE FL 200ML</td>\n      <td>1490281</td>\n    </tr>\n    <tr>\n      <th>2</th>\n      <td>35592159</td>\n      <td>10</td>\n      <td>7.45</td>\n      <td>SOINS DU VISAGE</td>\n      <td>VIS_CJOUR Jeunes Specifique</td>\n      <td>VIS_JEUNE_ET_LEVRE</td>\n      <td>CR JR PARF BIO.SPE AC.SENT.50ML</td>\n      <td>1490281</td>\n    </tr>\n    <tr>\n      <th>3</th>\n      <td>35592159</td>\n      <td>10</td>\n      <td>5.95</td>\n      <td>SOINS DU VISAGE</td>\n      <td>VIS_DEMAQ AAAR</td>\n      <td>VIS_AAAR_DEMAQLOTION</td>\n      <td>EAU MICELLAIRE 3 THES FL200ML</td>\n      <td>1490281</td>\n    </tr>\n    <tr>\n      <th>4</th>\n      <td>35592159</td>\n      <td>10</td>\n      <td>1.67</td>\n      <td>HYGIENE</td>\n      <td>HYG_DOUCHE JARDINMONDE</td>\n      <td>HYG_JDM</td>\n      <td>GD JDM4 TIARE FL 200ML</td>\n      <td>1490281</td>\n    </tr>\n  </tbody>\n</table>\n</div>"
     },
     "execution_count": 2,
     "metadata": {},
     "output_type": "execute_result"
    }
   ],
   "source": [
    "pd.set_option('display.max_row', 111)\n",
    "pd.set_option('display.max_column', 111)\n",
    "\n",
    "data = pd.read_csv(\"~/Documents/DATASETS/students/KaDo.csv\")\n",
    "df = data.copy()\n",
    "small_df = data.copy()[:500]\n",
    "small_df.head()"
   ],
   "metadata": {
    "collapsed": false,
    "pycharm": {
     "name": "#%%\n"
    }
   }
  },
  {
   "cell_type": "code",
   "execution_count": 3,
   "outputs": [
    {
     "name": "stdout",
     "output_type": "stream",
     "text": [
      "(7245522, 8) TICKET_ID       int64\n",
      "MOIS_VENTE      int64\n",
      "PRIX_NET      float64\n",
      "FAMILLE        object\n",
      "UNIVERS        object\n",
      "MAILLE         object\n",
      "LIBELLE        object\n",
      "CLI_ID          int64\n",
      "dtype: object\n",
      "HYGIENE            2095077\n",
      "MAQUILLAGE         1694751\n",
      "SOINS DU VISAGE    1494034\n",
      "SOINS DU CORPS      878923\n",
      "PARFUMAGE           628087\n",
      "CAPILLAIRES         301365\n",
      "SOLAIRES            153254\n",
      "MULTI FAMILLES          30\n",
      "SANTE NATURELLE          1\n",
      "Name: FAMILLE, dtype: int64\n"
     ]
    },
    {
     "data": {
      "text/plain": "<matplotlib.axes._subplots.AxesSubplot at 0x7f62a1641b80>"
     },
     "execution_count": 3,
     "metadata": {},
     "output_type": "execute_result"
    },
    {
     "data": {
      "text/plain": "<Figure size 432x288 with 1 Axes>",
      "image/png": "[encoded data removed]"
     },
     "metadata": {},
     "output_type": "display_data"
    }
   ],
   "source": [
    "print(df.shape, df.dtypes)\n",
    "\n",
    "# Manipulation du DF pour constater quelles sont les mailles univers, famille que l'on retrouve le plus\n",
    "print(df['FAMILLE'].value_counts())\n",
    "pd.crosstab(df['UNIVERS'], df['MAILLE'], dropna=True)\n",
    "\n",
    "#pd.value_counts(df['UNIVERS'])[:10].plot.pie()\n",
    "# Conclusion de la ligne du dessus, un univers est largement devant les autres, donc logiquement,\n",
    "# plusieurs mailles devraient l'etre devant les mailles d'un autre Univers\n",
    "\n",
    "#sns.displot(df['MAILLE'][:10], label='Maille')\n",
    "pd.value_counts(df['MAILLE'])[:10].plot.pie()"
   ],
   "metadata": {
    "collapsed": false,
    "pycharm": {
     "name": "#%%\n"
    }
   }
  },
  {
   "cell_type": "code",
   "execution_count": 4,
   "outputs": [
    {
     "data": {
      "text/plain": "TICKET_ID     0.034771\nMOIS_VENTE    0.032393\nPRIX_NET      1.000000\nCLI_ID        0.091705\nName: PRIX_NET, dtype: float64"
     },
     "execution_count": 4,
     "metadata": {},
     "output_type": "execute_result"
    }
   ],
   "source": [
    "small_df.corr()['PRIX_NET']\n",
    "#sns.clustermap(df['UNIVERS'][:10].corr())\n",
    "#sns.pairplot(df['UNIVERS'])"
   ],
   "metadata": {
    "collapsed": false,
    "pycharm": {
     "name": "#%%\n"
    }
   }
  },
  {
   "cell_type": "code",
   "execution_count": 5,
   "outputs": [
    {
     "data": {
      "text/plain": "0.3267302090105636"
     },
     "execution_count": 5,
     "metadata": {},
     "output_type": "execute_result"
    }
   ],
   "source": [
    "encoder = LabelEncoder()\n",
    "small_df['UNIVERS_NUM'] = encoder.fit_transform(small_df['UNIVERS'])\n",
    "small_df['PRIX_NET'].corr(small_df['UNIVERS_NUM'])"
   ],
   "metadata": {
    "collapsed": false,
    "pycharm": {
     "name": "#%%\n"
    }
   }
  },
  {
   "cell_type": "code",
   "execution_count": 6,
   "outputs": [
    {
     "data": {
      "text/plain": "<seaborn.matrix.ClusterGrid at 0x7f62a154ffa0>"
     },
     "execution_count": 6,
     "metadata": {},
     "output_type": "execute_result"
    },
    {
     "data": {
      "text/plain": "<Figure size 720x720 with 4 Axes>",
      "image/png": "[encoded data removed]"
     },
     "metadata": {
      "needs_background": "light"
     },
     "output_type": "display_data"
    }
   ],
   "source": [
    "sns.clustermap(small_df[small_df.columns].corr())"
   ],
   "metadata": {
    "collapsed": false,
    "pycharm": {
     "name": "#%%\n"
    }
   }
  },
  {
   "cell_type": "code",
   "execution_count": 7,
   "outputs": [
    {
     "data": {
      "text/plain": "<matplotlib.axes._subplots.AxesSubplot at 0x7f62a1439b50>"
     },
     "execution_count": 7,
     "metadata": {},
     "output_type": "execute_result"
    },
    {
     "data": {
      "text/plain": "<Figure size 432x288 with 2 Axes>",
      "image/png": "[encoded data removed]"
     },
     "metadata": {
      "needs_background": "light"
     },
     "output_type": "display_data"
    }
   ],
   "source": [
    "sns.heatmap(small_df[small_df.columns].corr())"
   ],
   "metadata": {
    "collapsed": false,
    "pycharm": {
     "name": "#%%\n"
    }
   }
  },
  {
   "cell_type": "code",
   "execution_count": 8,
   "outputs": [
    {
     "name": "stdout",
     "output_type": "stream",
     "text": [
      "Month :  1 \n",
      "\n",
      "CLI_ID\n",
      "90822328     36.70\n",
      "362128564    32.70\n",
      "85841284     29.60\n",
      "360340862    24.35\n",
      "336948609    22.95\n",
      "100064590    19.70\n",
      "372658871    18.70\n",
      "131204016    18.50\n",
      "69813934     14.85\n",
      "195207210    14.00\n",
      "20727324     13.25\n",
      "21239163     12.65\n",
      "21046542     11.30\n",
      "100023116     9.60\n",
      "366515154     7.50\n",
      "20163348      7.45\n",
      "21351166      7.40\n",
      "20200041      6.70\n",
      "93806295      6.00\n",
      "243624087     4.45\n",
      "Name: PRIX_NET, dtype: float64 \n",
      "\n",
      "Month :  2 \n",
      "\n",
      "CLI_ID\n",
      "366515154    41.75\n",
      "21046542     38.90\n",
      "356832238    18.80\n",
      "85841284      9.80\n",
      "372658871     8.85\n",
      "195207210     8.45\n",
      "360340862     7.90\n",
      "372367788     7.45\n",
      "275493987     6.90\n",
      "69813934      6.45\n",
      "21504227      1.95\n",
      "Name: PRIX_NET, dtype: float64 \n",
      "\n",
      "Month :  3 \n",
      "\n",
      "CLI_ID\n",
      "90822328     42.80\n",
      "366515154    25.50\n",
      "69813934     21.35\n",
      "359489151    19.45\n",
      "195207210    17.00\n",
      "356832238     7.75\n",
      "20561854      7.05\n",
      "131204016     2.95\n",
      "372402389     1.50\n",
      "Name: PRIX_NET, dtype: float64 \n",
      "\n",
      "Month :  4 \n",
      "\n",
      "CLI_ID\n",
      "365845758    39.95\n",
      "21497331     33.35\n",
      "356998310    26.95\n",
      "195207210    14.00\n",
      "362128564    11.40\n",
      "360778261    11.35\n",
      "372402389    10.85\n",
      "275493987     9.40\n",
      "242424645     5.00\n",
      "69813934      3.45\n",
      "Name: PRIX_NET, dtype: float64 \n",
      "\n",
      "Month :  5 \n",
      "\n",
      "CLI_ID\n",
      "275493987    37.80\n",
      "355512954    31.70\n",
      "20791601     23.80\n",
      "366515154    21.95\n",
      "85841284     19.85\n",
      "169985247    19.34\n",
      "21514622     17.90\n",
      "100064590    17.85\n",
      "243624087     8.85\n",
      "372367788     7.45\n",
      "300240190     6.95\n",
      "360340862     3.90\n",
      "69813934      3.75\n",
      "Name: PRIX_NET, dtype: float64 \n",
      "\n",
      "Month :  6 \n",
      "\n",
      "CLI_ID\n",
      "365845758    55.80\n",
      "21046542     37.55\n",
      "321933797    36.50\n",
      "275493987    30.35\n",
      "195207210    27.90\n",
      "69813934     23.35\n",
      "336948609    20.50\n",
      "360778261    18.70\n",
      "85841284     17.65\n",
      "85057203     13.75\n",
      "90822328     12.55\n",
      "169985247    11.90\n",
      "362128564    11.40\n",
      "360340862     3.90\n",
      "Name: PRIX_NET, dtype: float64 \n",
      "\n",
      "Month :  7 \n",
      "\n",
      "CLI_ID\n",
      "21046542     78.45\n",
      "366515154    38.20\n",
      "321933797    37.30\n",
      "100064590    29.70\n",
      "362128564    21.40\n",
      "85841284     20.45\n",
      "69813934      9.45\n",
      "358464805     9.00\n",
      "275493987     5.75\n",
      "191914645     4.50\n",
      "360778261     4.00\n",
      "131204016     3.00\n",
      "354587579     1.95\n",
      "Name: PRIX_NET, dtype: float64 \n",
      "\n",
      "Month :  8 \n",
      "\n",
      "CLI_ID\n",
      "169985247    46.75\n",
      "364610105    44.25\n",
      "356998310    36.90\n",
      "275493987    28.00\n",
      "85057203      9.75\n",
      "69813934      9.35\n",
      "195207210     4.50\n",
      "365845758     3.50\n",
      "355512954     1.95\n",
      "206111880     1.50\n",
      "366515154     1.50\n",
      "Name: PRIX_NET, dtype: float64 \n",
      "\n",
      "Month :  9 \n",
      "\n",
      "CLI_ID\n",
      "169985247    67.60\n",
      "356998310    31.30\n",
      "275493987    27.40\n",
      "365845758    19.00\n",
      "13290776     18.50\n",
      "366515154    10.90\n",
      "243624087     8.95\n",
      "360778261     6.45\n",
      "206111880     2.25\n",
      "69813934      1.95\n",
      "Name: PRIX_NET, dtype: float64 \n",
      "\n",
      "Month :  10 \n",
      "\n",
      "CLI_ID\n",
      "85841284     56.95\n",
      "275493987    29.90\n",
      "126716008    26.50\n",
      "1490281      18.40\n",
      "69813934     18.00\n",
      "365845758     5.75\n",
      "Name: PRIX_NET, dtype: float64 \n",
      "\n",
      "Month :  11 \n",
      "\n",
      "CLI_ID\n",
      "169985247    41.00\n",
      "366515154    29.85\n",
      "372367788    22.30\n",
      "71891681     19.85\n",
      "356998310    17.85\n",
      "195207210    14.40\n",
      "321933797    11.95\n",
      "356832238    10.90\n",
      "362128564     9.90\n",
      "360778261     3.95\n",
      "Name: PRIX_NET, dtype: float64 \n",
      "\n",
      "Month :  12 \n",
      "\n",
      "CLI_ID\n",
      "100064590    41.05\n",
      "13290776     37.00\n",
      "356998310    35.50\n",
      "372228560    29.90\n",
      "275493987    28.75\n",
      "71891681     24.40\n",
      "365845758    21.10\n",
      "360778261    14.10\n",
      "131204016    13.40\n",
      "195207210     9.90\n",
      "243624087     8.90\n",
      "85841284      7.95\n",
      "336948609     6.45\n",
      "69813934      5.75\n",
      "Name: PRIX_NET, dtype: float64 \n",
      "\n"
     ]
    }
   ],
   "source": [
    "#Calcul des clients les plus dépensiers par mois et observation des univers les plus récurrents\n",
    "months = [month for month in range(1, 13)]\n",
    "top_clients_df = small_df.copy()\n",
    "\n",
    "for month in months:\n",
    "    res = top_clients_df[top_clients_df[\"MOIS_VENTE\"] == month]\n",
    "    res = res[[\"MOIS_VENTE\", \"PRIX_NET\", \"CLI_ID\", \"UNIVERS\"]]\n",
    "    # print(res)\n",
    "    most_recurrent_universes = res[[\"UNIVERS\"]].value_counts()\n",
    "    # print(\"UNIVERS most reccurent : \")\n",
    "    # sns.countplot(data=small_df, x=\"UNIVERS\", order=most_recurrent_universes.index)\n",
    "    res = res.groupby(\"CLI_ID\")[\"PRIX_NET\"]\\\n",
    "        .sum().sort_values(ascending=False)\n",
    "    print(\"Month : \", month, \"\\n\")\n",
    "    print(res.head(20), \"\\n\")"
   ],
   "metadata": {
    "collapsed": false,
    "pycharm": {
     "name": "#%%\n"
    }
   }
  },
  {
   "cell_type": "code",
   "execution_count": 9,
   "outputs": [
    {
     "name": "stdout",
     "output_type": "stream",
     "text": [
      "MAILLE\n",
      "PARF_HOMME                     14.333333\n",
      "PARF_PARFUM                    14.304516\n",
      "VIS_AAAR_HORS_DEMAQLOTION      13.588235\n",
      "MAQ_YEUX_MASCA_HG              11.450000\n",
      "MAQ_TEINT                      10.911538\n",
      "MAQ_LEV_RAL_HMG                 8.700000\n",
      "CORPS_SPA_ET_MINCEUR            8.450000\n",
      "VIS_HOMMES                      8.200000\n",
      "SOLAIRE                         7.842857\n",
      "MAQ_YEUX_MASCA_EYEL_FARD        7.465625\n",
      "MAQ_LEV_BASPRIX                 6.766667\n",
      "PARF_EDT                        6.756250\n",
      "VIS_BIO                         6.716667\n",
      "CORPS_MONOI                     5.950000\n",
      "VIS_AAAR_DEMAQLOTION            5.685714\n",
      "MAQ_YEUX_CLASSIQUE              5.375714\n",
      "VIS_JEUNE_ET_LEVRE              4.707692\n",
      "CORPS_HYDR_LAIT_HUILE           4.266667\n",
      "HYG_HOMME                       4.250000\n",
      "CORPS_HYDRA_NOURRI_ET_SOINS     3.834615\n",
      "VIS_AUTRES                      3.716667\n",
      "MAQ_ONGLES                      3.534615\n",
      "HYG_CULTUREBIO                  3.458333\n",
      "HYG_MONOI_ET_EDIT_SPEC          3.376923\n",
      "VIS_PUR                         3.277273\n",
      "CAPILLAIRE_SHAMPOING            3.256250\n",
      "HYG_PARFUMEE                    3.243000\n",
      "HYG_AUTRES                      3.212500\n",
      "CAPILLAIRE_AUTRE                2.950000\n",
      "HYG_PLAISIRNAT_BAIN_SAVON       2.652439\n",
      "HYG_JDM                         1.837952\n",
      "Name: PRIX_NET, dtype: float64\n"
     ]
    }
   ],
   "source": [
    "# Calcul des mailles les plus onéreuses afin de les proposer aux clients les plus dépensiers\n",
    "\n",
    "top_expensive = small_df.copy()\n",
    "top_expensive = top_expensive[[\"MAILLE\", \"PRIX_NET\"]]\\\n",
    "    .groupby(\"MAILLE\")['PRIX_NET'].mean().sort_values(ascending=False)\n",
    "print(top_expensive,\n",
    "      # top_expensive.plot.pie()\n",
    "      )\n"
   ],
   "metadata": {
    "collapsed": false,
    "pycharm": {
     "name": "#%%\n"
    }
   }
  },
  {
   "cell_type": "code",
   "execution_count": null,
   "outputs": [],
   "source": [],
   "metadata": {
    "collapsed": false,
    "pycharm": {
     "name": "#%%\n"
    }
   }
  }
 ],
 "metadata": {
  "kernelspec": {
   "name": "python3",
   "language": "python",
   "display_name": "Python 3 (ipykernel)"
  },
  "language_info": {
   "codemirror_mode": {
    "name": "ipython",
    "version": 2
   },
   "file_extension": ".py",
   "mimetype": "text/x-python",
   "name": "python",
   "nbconvert_exporter": "python",
   "pygments_lexer": "ipython2",
   "version": "2.7.6"
  }
 },
 "nbformat": 4,
 "nbformat_minor": 0
}