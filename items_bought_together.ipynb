{
 "cells": [
  {
   "cell_type": "code",
   "execution_count": 23,
   "metadata": {
    "collapsed": true
   },
   "outputs": [],
   "source": [
    "import matplotlib.pyplot as plt\n",
    "import numpy as np\n",
    "import pandas as pd\n",
    "\n",
    "from mlxtend.frequent_patterns import apriori, association_rules, fpgrowth\n",
    "from mlxtend.preprocessing import TransactionEncoder\n",
    "from sklearn.preprocessing import LabelEncoder\n"
   ]
  },
  {
   "cell_type": "code",
   "execution_count": 24,
   "metadata": {
    "collapsed": false,
    "pycharm": {
     "name": "#%%\n"
    }
   },
   "outputs": [],
   "source": [
    "pd.set_option('display.max_row', 111)\n",
    "pd.set_option('display.max_column', 111)\n",
    "plt.style.use('dark_background')\n",
    "\n",
    "data = pd.read_csv(\"./KaDo.csv\")\n",
    "base_df = data.copy()"
   ]
  },
  {
   "cell_type": "code",
   "execution_count": 25,
   "metadata": {
    "collapsed": false,
    "pycharm": {
     "name": "#%%\n"
    }
   },
   "outputs": [],
   "source": [
    "# Delete unused columns, drop NAs, create additionnal columns, and only keep TICKET_IDS with multiple product which are not the same.\n",
    "def preprocessing_df(df):\n",
    "    df.drop(columns=['MOIS_VENTE', 'PRIX_NET'], axis=1, inplace=True)\n",
    "    df.dropna(axis='columns')\n",
    "    encoder = LabelEncoder()\n",
    "    df['ALL_LIBELLES'] = None\n",
    "    df['CODE_LIBELLE'] = encoder.fit_transform(df['LIBELLE'])\n",
    "    df['CODE_LIBELLE'] = df['CODE_LIBELLE'].apply(lambda x: '_'+str(x))\n",
    "    # Keep only ticket ids with multiple product\n",
    "    df = df.drop_duplicates()\n",
    "    single_tickets = df.duplicated(subset='TICKET_ID', keep=False)\n",
    "    df = df[single_tickets]\n",
    "    return df\n",
    "\n",
    "df = preprocessing_df(base_df)"
   ]
  },
  {
   "cell_type": "code",
   "execution_count": 26,
   "metadata": {},
   "outputs": [],
   "source": [
    "# Keep in case\n",
    "# all_ticket_ids = df['TICKET_ID'].tolist()\n",
    "# all_libelles_list = []\n",
    "# for ticket_id in all_ticket_ids:\n",
    "#     all_libelles = df[df['TICKET_ID'] == ticket_id]['LIBELLE'].tolist()\n",
    "#     all_libelles_list.append(all_libelles)\n",
    "# df['ALL_LIBELLE'] = all_libelles_list"
   ]
  },
  {
   "cell_type": "code",
   "execution_count": 27,
   "metadata": {},
   "outputs": [],
   "source": [
    "# Separate two dataframes, one for calculating the association rules and the other for looking up the libelles(description) to display on our recommendations\n",
    "def get_products_orders_df(df):\n",
    "    orders = df[['TICKET_ID', 'CODE_LIBELLE']]\n",
    "    products = df[['CODE_LIBELLE', 'LIBELLE']].copy()\n",
    "\n",
    "    # Drop duplicated products\n",
    "    products = products[~products.duplicated()]\n",
    "    products = products[~products.duplicated(subset=['CODE_LIBELLE'])]\n",
    "\n",
    "    # Set the index to CODE_LIBELLE\n",
    "    products = products.set_index('CODE_LIBELLE')\n",
    "    # Convert to Series for easier lookups\n",
    "    products = products['LIBELLE']\n",
    "    orders = orders.groupby('TICKET_ID')['CODE_LIBELLE'].apply(list).reset_index()\n",
    "\n",
    "    return orders, products\n",
    "\n",
    "orders_df, products_df = get_products_orders_df(df)"
   ]
  },
  {
   "cell_type": "code",
   "execution_count": 28,
   "metadata": {},
   "outputs": [],
   "source": [
    "# orders = orders.groupby('TICKET_ID')['CODE_LIBELLE'].apply(list).reset_index()"
   ]
  },
  {
   "cell_type": "code",
   "execution_count": 29,
   "metadata": {},
   "outputs": [],
   "source": [
    "# fit the TransactionEncoder and do the transformation\n",
    "def encode_orders_df(orders_df):\n",
    "    te = TransactionEncoder()\n",
    "    orders_1hot = te.fit(orders_df['CODE_LIBELLE']).transform(orders_df['CODE_LIBELLE'])\n",
    "    orders_1hot = pd.DataFrame(orders_1hot, columns=te.columns_)\n",
    "    return orders_1hot\n",
    "\n",
    "orders_1hot = encode_orders_df(orders_df)"
   ]
  },
  {
   "cell_type": "code",
   "execution_count": 30,
   "metadata": {},
   "outputs": [],
   "source": [
    "# APRIORI METHOD\n",
    "# ap = apriori(orders_1hot, min_support=0.0001, max_len=10, use_colnames=True)\n",
    "# ap"
   ]
  },
  {
   "cell_type": "code",
   "execution_count": 31,
   "metadata": {},
   "outputs": [
    {
     "name": "stdout",
     "output_type": "stream",
     "text": [
      "46.8 s ± 0 ns per loop (mean ± std. dev. of 1 run, 1 loop each)\n"
     ]
    }
   ],
   "source": [
    "%%timeit -n1 -r1\n",
    "\n",
    "# FPGROWTH METHOD, cf: https://rasbt.github.io/mlxtend/user_guide/frequent_patterns/fpgrowth/\n",
    "\n",
    "# the orders_1hot value should be the return of encode_orders_df function\n",
    "fpgrowth(orders_1hot, min_support=0.001, max_len=5, use_colnames=True)"
   ]
  },
  {
   "cell_type": "code",
   "execution_count": 32,
   "metadata": {},
   "outputs": [
    {
     "data": {
      "text/html": [
       "<div>\n",
       "<style scoped>\n",
       "    .dataframe tbody tr th:only-of-type {\n",
       "        vertical-align: middle;\n",
       "    }\n",
       "\n",
       "    .dataframe tbody tr th {\n",
       "        vertical-align: top;\n",
       "    }\n",
       "\n",
       "    .dataframe thead th {\n",
       "        text-align: right;\n",
       "    }\n",
       "</style>\n",
       "<table border=\"1\" class=\"dataframe\">\n",
       "  <thead>\n",
       "    <tr style=\"text-align: right;\">\n",
       "      <th></th>\n",
       "      <th>support</th>\n",
       "      <th>itemsets</th>\n",
       "    </tr>\n",
       "  </thead>\n",
       "  <tbody>\n",
       "    <tr>\n",
       "      <th>0</th>\n",
       "      <td>0.007102</td>\n",
       "      <td>(_733)</td>\n",
       "    </tr>\n",
       "    <tr>\n",
       "      <th>1</th>\n",
       "      <td>0.002401</td>\n",
       "      <td>(_29)</td>\n",
       "    </tr>\n",
       "    <tr>\n",
       "      <th>2</th>\n",
       "      <td>0.001738</td>\n",
       "      <td>(_469)</td>\n",
       "    </tr>\n",
       "    <tr>\n",
       "      <th>3</th>\n",
       "      <td>0.002097</td>\n",
       "      <td>(_1279)</td>\n",
       "    </tr>\n",
       "    <tr>\n",
       "      <th>4</th>\n",
       "      <td>0.006841</td>\n",
       "      <td>(_687)</td>\n",
       "    </tr>\n",
       "    <tr>\n",
       "      <th>...</th>\n",
       "      <td>...</td>\n",
       "      <td>...</td>\n",
       "    </tr>\n",
       "    <tr>\n",
       "      <th>1369</th>\n",
       "      <td>0.001329</td>\n",
       "      <td>(_707, _859)</td>\n",
       "    </tr>\n",
       "    <tr>\n",
       "      <th>1370</th>\n",
       "      <td>0.001282</td>\n",
       "      <td>(_707, _270, _859)</td>\n",
       "    </tr>\n",
       "    <tr>\n",
       "      <th>1371</th>\n",
       "      <td>0.001024</td>\n",
       "      <td>(_1469, _1413)</td>\n",
       "    </tr>\n",
       "    <tr>\n",
       "      <th>1372</th>\n",
       "      <td>0.001124</td>\n",
       "      <td>(_1363, _1448)</td>\n",
       "    </tr>\n",
       "    <tr>\n",
       "      <th>1373</th>\n",
       "      <td>0.001397</td>\n",
       "      <td>(_5, _1)</td>\n",
       "    </tr>\n",
       "  </tbody>\n",
       "</table>\n",
       "<p>1374 rows × 2 columns</p>\n",
       "</div>"
      ],
      "text/plain": [
       "       support            itemsets\n",
       "0     0.007102              (_733)\n",
       "1     0.002401               (_29)\n",
       "2     0.001738              (_469)\n",
       "3     0.002097             (_1279)\n",
       "4     0.006841              (_687)\n",
       "...        ...                 ...\n",
       "1369  0.001329        (_707, _859)\n",
       "1370  0.001282  (_707, _270, _859)\n",
       "1371  0.001024      (_1469, _1413)\n",
       "1372  0.001124      (_1363, _1448)\n",
       "1373  0.001397            (_5, _1)\n",
       "\n",
       "[1374 rows x 2 columns]"
      ]
     },
     "execution_count": 32,
     "metadata": {},
     "output_type": "execute_result"
    }
   ],
   "source": [
    "fp = fpgrowth(orders_1hot, min_support=0.001, max_len=5, use_colnames=True)\n",
    "fp"
   ]
  },
  {
   "cell_type": "code",
   "execution_count": 33,
   "metadata": {},
   "outputs": [
    {
     "data": {
      "text/html": [
       "<div>\n",
       "<style scoped>\n",
       "    .dataframe tbody tr th:only-of-type {\n",
       "        vertical-align: middle;\n",
       "    }\n",
       "\n",
       "    .dataframe tbody tr th {\n",
       "        vertical-align: top;\n",
       "    }\n",
       "\n",
       "    .dataframe thead th {\n",
       "        text-align: right;\n",
       "    }\n",
       "</style>\n",
       "<table border=\"1\" class=\"dataframe\">\n",
       "  <thead>\n",
       "    <tr style=\"text-align: right;\">\n",
       "      <th></th>\n",
       "      <th>antecedents</th>\n",
       "      <th>consequents</th>\n",
       "      <th>antecedent support</th>\n",
       "      <th>consequent support</th>\n",
       "      <th>support</th>\n",
       "      <th>confidence</th>\n",
       "      <th>lift</th>\n",
       "      <th>leverage</th>\n",
       "      <th>conviction</th>\n",
       "    </tr>\n",
       "  </thead>\n",
       "  <tbody>\n",
       "    <tr>\n",
       "      <th>0</th>\n",
       "      <td>(_733)</td>\n",
       "      <td>(_742)</td>\n",
       "      <td>0.007102</td>\n",
       "      <td>0.007436</td>\n",
       "      <td>0.001254</td>\n",
       "      <td>0.176562</td>\n",
       "      <td>23.745132</td>\n",
       "      <td>0.001201</td>\n",
       "      <td>1.205391</td>\n",
       "    </tr>\n",
       "    <tr>\n",
       "      <th>1</th>\n",
       "      <td>(_742)</td>\n",
       "      <td>(_733)</td>\n",
       "      <td>0.007436</td>\n",
       "      <td>0.007102</td>\n",
       "      <td>0.001254</td>\n",
       "      <td>0.168648</td>\n",
       "      <td>23.745132</td>\n",
       "      <td>0.001201</td>\n",
       "      <td>1.194317</td>\n",
       "    </tr>\n",
       "    <tr>\n",
       "      <th>2</th>\n",
       "      <td>(_733)</td>\n",
       "      <td>(_1358)</td>\n",
       "      <td>0.007102</td>\n",
       "      <td>0.008315</td>\n",
       "      <td>0.001048</td>\n",
       "      <td>0.147490</td>\n",
       "      <td>17.738715</td>\n",
       "      <td>0.000988</td>\n",
       "      <td>1.163254</td>\n",
       "    </tr>\n",
       "    <tr>\n",
       "      <th>3</th>\n",
       "      <td>(_1358)</td>\n",
       "      <td>(_733)</td>\n",
       "      <td>0.008315</td>\n",
       "      <td>0.007102</td>\n",
       "      <td>0.001048</td>\n",
       "      <td>0.125988</td>\n",
       "      <td>17.738715</td>\n",
       "      <td>0.000988</td>\n",
       "      <td>1.136023</td>\n",
       "    </tr>\n",
       "    <tr>\n",
       "      <th>4</th>\n",
       "      <td>(_1345)</td>\n",
       "      <td>(_1344)</td>\n",
       "      <td>0.009621</td>\n",
       "      <td>0.014105</td>\n",
       "      <td>0.002069</td>\n",
       "      <td>0.215102</td>\n",
       "      <td>15.249597</td>\n",
       "      <td>0.001934</td>\n",
       "      <td>1.256080</td>\n",
       "    </tr>\n",
       "  </tbody>\n",
       "</table>\n",
       "</div>"
      ],
      "text/plain": [
       "  antecedents consequents  antecedent support  consequent support   support  \\\n",
       "0      (_733)      (_742)            0.007102            0.007436  0.001254   \n",
       "1      (_742)      (_733)            0.007436            0.007102  0.001254   \n",
       "2      (_733)     (_1358)            0.007102            0.008315  0.001048   \n",
       "3     (_1358)      (_733)            0.008315            0.007102  0.001048   \n",
       "4     (_1345)     (_1344)            0.009621            0.014105  0.002069   \n",
       "\n",
       "   confidence       lift  leverage  conviction  \n",
       "0    0.176562  23.745132  0.001201    1.205391  \n",
       "1    0.168648  23.745132  0.001201    1.194317  \n",
       "2    0.147490  17.738715  0.000988    1.163254  \n",
       "3    0.125988  17.738715  0.000988    1.136023  \n",
       "4    0.215102  15.249597  0.001934    1.256080  "
      ]
     },
     "execution_count": 33,
     "metadata": {},
     "output_type": "execute_result"
    }
   ],
   "source": [
    "rules = association_rules(fp, metric=\"lift\", min_threshold=5)\n",
    "rules.head()"
   ]
  },
  {
   "cell_type": "code",
   "execution_count": 34,
   "metadata": {},
   "outputs": [],
   "source": [
    "def predict(antecedent, rules, max_results=10):\n",
    "    \n",
    "    # get the rules for this antecedent\n",
    "    preds = rules[rules['antecedents'] == antecedent]\n",
    "    \n",
    "    # a way to convert a frozen set with one element to string\n",
    "    preds = preds['consequents'].apply(iter).apply(next)\n",
    "    \n",
    "    return preds[:max_results]"
   ]
  },
  {
   "cell_type": "code",
   "execution_count": 35,
   "metadata": {},
   "outputs": [
    {
     "data": {
      "text/plain": [
       "238     _712\n",
       "1427    _728\n",
       "1806    _729\n",
       "1814    _725\n",
       "1819    _729\n",
       "1832    _728\n",
       "1837    _730\n",
       "1855    _728\n",
       "1865    _725\n",
       "1870    _728\n",
       "Name: consequents, dtype: object"
      ]
     },
     "execution_count": 35,
     "metadata": {},
     "output_type": "execute_result"
    }
   ],
   "source": [
    "preds = predict({'_726'}, rules)\n",
    "preds"
   ]
  },
  {
   "cell_type": "code",
   "execution_count": 36,
   "metadata": {},
   "outputs": [
    {
     "name": "stdout",
     "output_type": "stream",
     "text": [
      "Original product : GD JDM4 GRENADE FL200ML \n",
      "\n",
      "Recommended products :\n",
      "GD FL200ML JDM PAMPLEMOUSSE\n",
      "GD JDM4 PAMPLEMOUSSE FL 200ML\n",
      "GD JDM4 CIT VERT FL 200ML\n",
      "GD JDM4 LOTUS FL200ML\n",
      "GD JDM4 ORANGE FL 200ML\n"
     ]
    }
   ],
   "source": [
    "print('Original product :', products_df['_726'], '\\n')\n",
    "\n",
    "print('Recommended products :')\n",
    "for stockid in set(preds):  \n",
    "    print(products_df[stockid])"
   ]
  }
 ],
 "metadata": {
  "kernelspec": {
   "display_name": "Python 3",
   "language": "python",
   "name": "python3"
  },
  "language_info": {
   "codemirror_mode": {
    "name": "ipython",
    "version": 3
   },
   "file_extension": ".py",
   "mimetype": "text/x-python",
   "name": "python",
   "nbconvert_exporter": "python",
   "pygments_lexer": "ipython3",
   "version": "3.8.5"
  }
 },
 "nbformat": 4,
 "nbformat_minor": 0
}
