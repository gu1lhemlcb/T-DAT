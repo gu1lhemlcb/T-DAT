{
 "metadata": {
  "language_info": {
   "codemirror_mode": {
    "name": "ipython",
    "version": 3
   },
   "file_extension": ".py",
   "mimetype": "text/x-python",
   "name": "python",
   "nbconvert_exporter": "python",
   "pygments_lexer": "ipython3",
   "version": "3.8.9"
  },
  "orig_nbformat": 2,
  "kernelspec": {
   "name": "python3",
   "display_name": "Python 3.8.9 64-bit",
   "metadata": {
    "interpreter": {
     "hash": "df0893f56f349688326838aaeea0de204df53a132722cbd565e54b24a8fec5f6"
    }
   }
  }
 },
 "nbformat": 4,
 "nbformat_minor": 2,
 "cells": [
  {
   "source": [
    "import pandas as pd\n",
    "from sklearn.preprocessing import OneHotEncoder\n",
    "import numpy as np\n",
    "from sklearn.decomposition import PCA"
   ],
   "cell_type": "code",
   "metadata": {},
   "execution_count": 66,
   "outputs": []
  },
  {
   "cell_type": "code",
   "execution_count": 67,
   "metadata": {},
   "outputs": [],
   "source": [
    "df = pd.read_csv('~/EPITECH/TEK5/Data-tests/KaDo.csv')"
   ]
  },
  {
   "cell_type": "code",
   "execution_count": 68,
   "metadata": {},
   "outputs": [],
   "source": [
    "pd.set_option('display.max_columns', None)"
   ]
  },
  {
   "cell_type": "code",
   "execution_count": 69,
   "metadata": {},
   "outputs": [
    {
     "output_type": "execute_result",
     "data": {
      "text/plain": [
       "Index(['TICKET_ID', 'MOIS_VENTE', 'PRIX_NET', 'FAMILLE', 'UNIVERS', 'MAILLE',\n",
       "       'LIBELLE', 'CLI_ID'],\n",
       "      dtype='object')"
      ]
     },
     "metadata": {},
     "execution_count": 69
    }
   ],
   "source": [
    "df.columns"
   ]
  },
  {
   "cell_type": "code",
   "execution_count": 70,
   "metadata": {},
   "outputs": [],
   "source": [
    "to_drop = ['TICKET_ID', 'MOIS_VENTE', 'UNIVERS', 'MAILLE', 'LIBELLE']\n",
    "df.drop(to_drop, inplace=True, axis=1)"
   ]
  },
  {
   "cell_type": "code",
   "execution_count": 71,
   "metadata": {},
   "outputs": [],
   "source": [
    "train, validate, test = np.split(df.sample(frac=1, random_state=42), [int(.6*len(df)), int(.8*len(df))])"
   ]
  },
  {
   "cell_type": "code",
   "execution_count": 72,
   "metadata": {},
   "outputs": [
    {
     "output_type": "execute_result",
     "data": {
      "text/plain": [
       "13041939"
      ]
     },
     "metadata": {},
     "execution_count": 72
    }
   ],
   "source": [
    "train.size"
   ]
  },
  {
   "cell_type": "code",
   "execution_count": 73,
   "metadata": {},
   "outputs": [
    {
     "output_type": "execute_result",
     "data": {
      "text/plain": [
       "['FAMILLE']"
      ]
     },
     "metadata": {},
     "execution_count": 73
    }
   ],
   "source": [
    "categories = [col for col in train.columns if train[col].dtypes == 'O']\n",
    "categories"
   ]
  },
  {
   "cell_type": "code",
   "execution_count": 74,
   "metadata": {},
   "outputs": [],
   "source": [
    "ohe = OneHotEncoder(sparse=False, drop='first')"
   ]
  },
  {
   "cell_type": "code",
   "execution_count": 75,
   "metadata": {},
   "outputs": [],
   "source": [
    "train_encoded = pd.DataFrame(ohe.fit_transform(train[categories]), columns=ohe.get_feature_names(), index=train.index)"
   ]
  },
  {
   "cell_type": "code",
   "execution_count": 76,
   "metadata": {},
   "outputs": [],
   "source": [
    "train_data = pd.concat([train_encoded, train.drop(categories, axis=1)], axis=1)"
   ]
  },
  {
   "cell_type": "code",
   "execution_count": 77,
   "metadata": {
    "tags": []
   },
   "outputs": [
    {
     "output_type": "execute_result",
     "data": {
      "text/plain": [
       "         x0_HYGIENE  x0_MAQUILLAGE  x0_MULTI FAMILLES  x0_PARFUMAGE  \\\n",
       "6247049         0.0            1.0                0.0           0.0   \n",
       "3529634         0.0            1.0                0.0           0.0   \n",
       "2432998         0.0            1.0                0.0           0.0   \n",
       "585737          1.0            0.0                0.0           0.0   \n",
       "191928          0.0            0.0                0.0           1.0   \n",
       "...             ...            ...                ...           ...   \n",
       "4402029         0.0            1.0                0.0           0.0   \n",
       "2571098         0.0            1.0                0.0           0.0   \n",
       "2849133         0.0            1.0                0.0           0.0   \n",
       "2453249         1.0            0.0                0.0           0.0   \n",
       "4414410         1.0            0.0                0.0           0.0   \n",
       "\n",
       "         x0_SOINS DU CORPS  x0_SOINS DU VISAGE  x0_SOLAIRES  PRIX_NET  \\\n",
       "6247049                0.0                 0.0          0.0      1.65   \n",
       "3529634                0.0                 0.0          0.0      9.90   \n",
       "2432998                0.0                 0.0          0.0      1.95   \n",
       "585737                 0.0                 0.0          0.0      3.00   \n",
       "191928                 0.0                 0.0          0.0     12.50   \n",
       "...                    ...                 ...          ...       ...   \n",
       "4402029                0.0                 0.0          0.0      1.95   \n",
       "2571098                0.0                 0.0          0.0      7.90   \n",
       "2849133                0.0                 0.0          0.0      4.95   \n",
       "2453249                0.0                 0.0          0.0      1.50   \n",
       "4414410                0.0                 0.0          0.0      1.50   \n",
       "\n",
       "            CLI_ID  \n",
       "6247049  993274543  \n",
       "3529634  980918483  \n",
       "2432998  975080273  \n",
       "585737   958783413  \n",
       "191928   940731348  \n",
       "...            ...  \n",
       "4402029  987803456  \n",
       "2571098  975564143  \n",
       "2849133  976784021  \n",
       "2453249  975147387  \n",
       "4414410  987851744  \n",
       "\n",
       "[4347313 rows x 9 columns]"
      ],
      "text/html": "<div>\n<style scoped>\n    .dataframe tbody tr th:only-of-type {\n        vertical-align: middle;\n    }\n\n    .dataframe tbody tr th {\n        vertical-align: top;\n    }\n\n    .dataframe thead th {\n        text-align: right;\n    }\n</style>\n<table border=\"1\" class=\"dataframe\">\n  <thead>\n    <tr style=\"text-align: right;\">\n      <th></th>\n      <th>x0_HYGIENE</th>\n      <th>x0_MAQUILLAGE</th>\n      <th>x0_MULTI FAMILLES</th>\n      <th>x0_PARFUMAGE</th>\n      <th>x0_SOINS DU CORPS</th>\n      <th>x0_SOINS DU VISAGE</th>\n      <th>x0_SOLAIRES</th>\n      <th>PRIX_NET</th>\n      <th>CLI_ID</th>\n    </tr>\n  </thead>\n  <tbody>\n    <tr>\n      <th>6247049</th>\n      <td>0.0</td>\n      <td>1.0</td>\n      <td>0.0</td>\n      <td>0.0</td>\n      <td>0.0</td>\n      <td>0.0</td>\n      <td>0.0</td>\n      <td>1.65</td>\n      <td>993274543</td>\n    </tr>\n    <tr>\n      <th>3529634</th>\n      <td>0.0</td>\n      <td>1.0</td>\n      <td>0.0</td>\n      <td>0.0</td>\n      <td>0.0</td>\n      <td>0.0</td>\n      <td>0.0</td>\n      <td>9.90</td>\n      <td>980918483</td>\n    </tr>\n    <tr>\n      <th>2432998</th>\n      <td>0.0</td>\n      <td>1.0</td>\n      <td>0.0</td>\n      <td>0.0</td>\n      <td>0.0</td>\n      <td>0.0</td>\n      <td>0.0</td>\n      <td>1.95</td>\n      <td>975080273</td>\n    </tr>\n    <tr>\n      <th>585737</th>\n      <td>1.0</td>\n      <td>0.0</td>\n      <td>0.0</td>\n      <td>0.0</td>\n      <td>0.0</td>\n      <td>0.0</td>\n      <td>0.0</td>\n      <td>3.00</td>\n      <td>958783413</td>\n    </tr>\n    <tr>\n      <th>191928</th>\n      <td>0.0</td>\n      <td>0.0</td>\n      <td>0.0</td>\n      <td>1.0</td>\n      <td>0.0</td>\n      <td>0.0</td>\n      <td>0.0</td>\n      <td>12.50</td>\n      <td>940731348</td>\n    </tr>\n    <tr>\n      <th>...</th>\n      <td>...</td>\n      <td>...</td>\n      <td>...</td>\n      <td>...</td>\n      <td>...</td>\n      <td>...</td>\n      <td>...</td>\n      <td>...</td>\n      <td>...</td>\n    </tr>\n    <tr>\n      <th>4402029</th>\n      <td>0.0</td>\n      <td>1.0</td>\n      <td>0.0</td>\n      <td>0.0</td>\n      <td>0.0</td>\n      <td>0.0</td>\n      <td>0.0</td>\n      <td>1.95</td>\n      <td>987803456</td>\n    </tr>\n    <tr>\n      <th>2571098</th>\n      <td>0.0</td>\n      <td>1.0</td>\n      <td>0.0</td>\n      <td>0.0</td>\n      <td>0.0</td>\n      <td>0.0</td>\n      <td>0.0</td>\n      <td>7.90</td>\n      <td>975564143</td>\n    </tr>\n    <tr>\n      <th>2849133</th>\n      <td>0.0</td>\n      <td>1.0</td>\n      <td>0.0</td>\n      <td>0.0</td>\n      <td>0.0</td>\n      <td>0.0</td>\n      <td>0.0</td>\n      <td>4.95</td>\n      <td>976784021</td>\n    </tr>\n    <tr>\n      <th>2453249</th>\n      <td>1.0</td>\n      <td>0.0</td>\n      <td>0.0</td>\n      <td>0.0</td>\n      <td>0.0</td>\n      <td>0.0</td>\n      <td>0.0</td>\n      <td>1.50</td>\n      <td>975147387</td>\n    </tr>\n    <tr>\n      <th>4414410</th>\n      <td>1.0</td>\n      <td>0.0</td>\n      <td>0.0</td>\n      <td>0.0</td>\n      <td>0.0</td>\n      <td>0.0</td>\n      <td>0.0</td>\n      <td>1.50</td>\n      <td>987851744</td>\n    </tr>\n  </tbody>\n</table>\n<p>4347313 rows × 9 columns</p>\n</div>"
     },
     "metadata": {},
     "execution_count": 77
    }
   ],
   "source": [
    "train_data"
   ]
  }
 ]
}